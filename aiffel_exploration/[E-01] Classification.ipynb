{
 "cells": [
  {
   "cell_type": "markdown",
   "id": "ddcf57f8",
   "metadata": {},
   "source": [
    "# [E -01 ] Classification \n"
   ]
  },
  {
   "cell_type": "markdown",
   "id": "9afea880",
   "metadata": {},
   "source": [
    "## (1) Load_digits 손글씨 분류\n"
   ]
  },
  {
   "cell_type": "markdown",
   "id": "38c00f9c",
   "metadata": {},
   "source": [
    "### (1)필요한 모듈 import하기"
   ]
  },
  {
   "cell_type": "code",
   "execution_count": 4,
   "id": "e21ded3c",
   "metadata": {},
   "outputs": [],
   "source": [
    "from sklearn.datasets import load_digits\n",
    "from sklearn.model_selection import train_test_split\n",
    "from sklearn.metrics import classification_report\n",
    "import matplotlib.pyplot as plt\n",
    "import seaborn as sns"
   ]
  },
  {
   "cell_type": "code",
   "execution_count": 5,
   "id": "a7b48ff2",
   "metadata": {},
   "outputs": [],
   "source": [
    "#평가를 지표 출력을 위한 import, 함수\n",
    "from sklearn.metrics import accuracy_score\n",
    "from sklearn.metrics import roc_auc_score\n",
    "from sklearn.metrics import precision_score\n",
    "from sklearn.metrics import recall_score\n",
    "from sklearn.metrics import f1_score\n",
    "\n",
    "def evaluate_classifier(y_test, y_pred):\n",
    "    print(classification_report(y_test, y_pred)) \n",
    "    print(f\"Accuracy: {accuracy_score(y_test, y_pred):.4f}\")\n",
    "    print(f\"Precision: {precision_score(y_test, y_pred, average = 'macro'):.4f}\")\n",
    "    print(f\"Recall: {recall_score(y_test, y_pred, average = 'macro'):.4f}\")\n",
    "    print(f\"F1_SCORE: {f1_score(y_test, y_pred, average = 'macro', zero_division =1):.4f}\")\n",
    "        \n",
    "def evaluate_classifier_ROC(y_test, y_pred_prob):\n",
    "    print(f\"ROC AUC: {roc_auc_score(y_test, y_pred_prob, average = 'macro', multi_class='ovr' ):.4f}\")"
   ]
  },
  {
   "cell_type": "markdown",
   "id": "3e96ea11",
   "metadata": {},
   "source": [
    "### (2) 데이터 준비"
   ]
  },
  {
   "cell_type": "code",
   "execution_count": 3,
   "id": "650fcdb7",
   "metadata": {},
   "outputs": [],
   "source": [
    "digits = load_digits()"
   ]
  },
  {
   "cell_type": "markdown",
   "id": "221a112e",
   "metadata": {},
   "source": [
    "### (3) 데이터 이해하기"
   ]
  },
  {
   "cell_type": "code",
   "execution_count": 4,
   "id": "24c46fd9",
   "metadata": {},
   "outputs": [
    {
     "name": "stdout",
     "output_type": "stream",
     "text": [
      ".. _digits_dataset:\n",
      "\n",
      "Optical recognition of handwritten digits dataset\n",
      "--------------------------------------------------\n",
      "\n",
      "**Data Set Characteristics:**\n",
      "\n",
      "    :Number of Instances: 1797\n",
      "    :Number of Attributes: 64\n",
      "    :Attribute Information: 8x8 image of integer pixels in the range 0..16.\n",
      "    :Missing Attribute Values: None\n",
      "    :Creator: E. Alpaydin (alpaydin '@' boun.edu.tr)\n",
      "    :Date: July; 1998\n",
      "\n",
      "This is a copy of the test set of the UCI ML hand-written digits datasets\n",
      "https://archive.ics.uci.edu/ml/datasets/Optical+Recognition+of+Handwritten+Digits\n",
      "\n",
      "The data set contains images of hand-written digits: 10 classes where\n",
      "each class refers to a digit.\n",
      "\n",
      "Preprocessing programs made available by NIST were used to extract\n",
      "normalized bitmaps of handwritten digits from a preprinted form. From a\n",
      "total of 43 people, 30 contributed to the training set and different 13\n",
      "to the test set. 32x32 bitmaps are divided into nonoverlapping blocks of\n",
      "4x4 and the number of on pixels are counted in each block. This generates\n",
      "an input matrix of 8x8 where each element is an integer in the range\n",
      "0..16. This reduces dimensionality and gives invariance to small\n",
      "distortions.\n",
      "\n",
      "For info on NIST preprocessing routines, see M. D. Garris, J. L. Blue, G.\n",
      "T. Candela, D. L. Dimmick, J. Geist, P. J. Grother, S. A. Janet, and C.\n",
      "L. Wilson, NIST Form-Based Handprint Recognition System, NISTIR 5469,\n",
      "1994.\n",
      "\n",
      ".. topic:: References\n",
      "\n",
      "  - C. Kaynak (1995) Methods of Combining Multiple Classifiers and Their\n",
      "    Applications to Handwritten Digit Recognition, MSc Thesis, Institute of\n",
      "    Graduate Studies in Science and Engineering, Bogazici University.\n",
      "  - E. Alpaydin, C. Kaynak (1998) Cascading Classifiers, Kybernetika.\n",
      "  - Ken Tang and Ponnuthurai N. Suganthan and Xi Yao and A. Kai Qin.\n",
      "    Linear dimensionalityreduction using relevance weighted LDA. School of\n",
      "    Electrical and Electronic Engineering Nanyang Technological University.\n",
      "    2005.\n",
      "  - Claudio Gentile. A New Approximate Maximal Margin Classification\n",
      "    Algorithm. NIPS. 2000.\n",
      "\n"
     ]
    },
    {
     "data": {
      "text/plain": [
       "dict_keys(['data', 'target', 'frame', 'feature_names', 'target_names', 'images', 'DESCR'])"
      ]
     },
     "execution_count": 4,
     "metadata": {},
     "output_type": "execute_result"
    }
   ],
   "source": [
    "digits_data = digits.data #digits데이터의 data컬럼\n",
    "digits_label = digits.target #digits데이터의 target컬럼\n",
    "digits.target_names  # array([0, 1, 2, 3, 4, 5, 6, 7, 8, 9])\n",
    "print(digits.DESCR)\n",
    "digits.keys()\n"
   ]
  },
  {
   "cell_type": "markdown",
   "id": "d5463327",
   "metadata": {},
   "source": [
    "### Digits 데이타 깊이 탐색하기 "
   ]
  },
  {
   "cell_type": "markdown",
   "id": "b134af92",
   "metadata": {},
   "source": [
    "### (4) train, test 데이터 분리"
   ]
  },
  {
   "cell_type": "code",
   "execution_count": 5,
   "id": "b38061b2",
   "metadata": {},
   "outputs": [],
   "source": [
    "X_train, X_test, y_train, y_test = train_test_split(digits_data, \n",
    "                                                    digits_label, \n",
    "                                                    test_size=0.2, \n",
    "                                                    random_state=7) "
   ]
  },
  {
   "cell_type": "markdown",
   "id": "a7898941",
   "metadata": {},
   "source": [
    "### (5) 다양한 모델로 학습시켜보기\n",
    "\n",
    "* Decision Tree \n",
    "* Random Forest \n",
    "* SVM 사용해 보기\n",
    "* SGD Classifier \n",
    "* Logistic Regression "
   ]
  },
  {
   "cell_type": "markdown",
   "id": "f08de498",
   "metadata": {},
   "source": [
    "#### (5-1) Decision Tree 사용해 보기"
   ]
  },
  {
   "cell_type": "code",
   "execution_count": 6,
   "id": "120b5837",
   "metadata": {
    "scrolled": true
   },
   "outputs": [
    {
     "name": "stdout",
     "output_type": "stream",
     "text": [
      "              precision    recall  f1-score   support\n",
      "\n",
      "           0       1.00      0.98      0.99        43\n",
      "           1       0.81      0.81      0.81        42\n",
      "           2       0.79      0.82      0.80        40\n",
      "           3       0.79      0.91      0.85        34\n",
      "           4       0.83      0.95      0.89        37\n",
      "           5       0.90      0.96      0.93        28\n",
      "           6       0.84      0.93      0.88        28\n",
      "           7       0.96      0.82      0.89        33\n",
      "           8       0.88      0.65      0.75        43\n",
      "           9       0.78      0.78      0.78        32\n",
      "\n",
      "    accuracy                           0.86       360\n",
      "   macro avg       0.86      0.86      0.86       360\n",
      "weighted avg       0.86      0.86      0.85       360\n",
      "\n"
     ]
    }
   ],
   "source": [
    "from sklearn.tree import DecisionTreeClassifier\n",
    "\n",
    "decision_tree = DecisionTreeClassifier(random_state=32) \n",
    "decision_tree.fit(X_train, y_train) \n",
    "y_tree_pred = decision_tree.predict(X_test) \n",
    "print(classification_report(y_test, y_tree_pred)) "
   ]
  },
  {
   "cell_type": "markdown",
   "id": "7c7a09a2",
   "metadata": {},
   "source": [
    "#### (5-2) Random Forest 사용해 보기"
   ]
  },
  {
   "cell_type": "code",
   "execution_count": 7,
   "id": "a4601e62",
   "metadata": {},
   "outputs": [
    {
     "name": "stdout",
     "output_type": "stream",
     "text": [
      "              precision    recall  f1-score   support\n",
      "\n",
      "           0       1.00      0.98      0.99        43\n",
      "           1       0.93      1.00      0.97        42\n",
      "           2       1.00      1.00      1.00        40\n",
      "           3       1.00      1.00      1.00        34\n",
      "           4       0.93      1.00      0.96        37\n",
      "           5       0.90      0.96      0.93        28\n",
      "           6       1.00      0.96      0.98        28\n",
      "           7       0.94      0.97      0.96        33\n",
      "           8       1.00      0.84      0.91        43\n",
      "           9       0.94      0.94      0.94        32\n",
      "\n",
      "    accuracy                           0.96       360\n",
      "   macro avg       0.96      0.96      0.96       360\n",
      "weighted avg       0.97      0.96      0.96       360\n",
      "\n"
     ]
    }
   ],
   "source": [
    "from sklearn.ensemble import RandomForestClassifier\n",
    "\n",
    "random_forest = RandomForestClassifier(random_state=32) \n",
    "random_forest.fit(X_train, y_train) \n",
    "y_random_pred = random_forest.predict(X_test) \n",
    " \n",
    "print(classification_report(y_test, y_random_pred)) "
   ]
  },
  {
   "cell_type": "markdown",
   "id": "444aee5a",
   "metadata": {},
   "source": [
    "#### (5-3)  SVM 사용해 보기"
   ]
  },
  {
   "cell_type": "code",
   "execution_count": 8,
   "id": "6639c2d3",
   "metadata": {},
   "outputs": [
    {
     "name": "stdout",
     "output_type": "stream",
     "text": [
      "              precision    recall  f1-score   support\n",
      "\n",
      "           0       1.00      1.00      1.00        43\n",
      "           1       0.95      1.00      0.98        42\n",
      "           2       1.00      1.00      1.00        40\n",
      "           3       1.00      1.00      1.00        34\n",
      "           4       1.00      1.00      1.00        37\n",
      "           5       0.93      1.00      0.97        28\n",
      "           6       1.00      1.00      1.00        28\n",
      "           7       1.00      1.00      1.00        33\n",
      "           8       1.00      0.93      0.96        43\n",
      "           9       1.00      0.97      0.98        32\n",
      "\n",
      "    accuracy                           0.99       360\n",
      "   macro avg       0.99      0.99      0.99       360\n",
      "weighted avg       0.99      0.99      0.99       360\n",
      "\n"
     ]
    }
   ],
   "source": [
    "from sklearn import svm #Support Vector Machine을 사용하기 위해 import\n",
    "\n",
    "svm_model = svm.SVC() # 모델 객체를 만든다.\n",
    "svm_model.fit(X_train, y_train) \n",
    "y_svm_pred = svm_model.predict(X_test) \n",
    "\n",
    "print(classification_report(y_test, y_svm_pred)) "
   ]
  },
  {
   "cell_type": "markdown",
   "id": "8b939783",
   "metadata": {},
   "source": [
    "#### (5-4) SGD Classifier 사용해 보기"
   ]
  },
  {
   "cell_type": "code",
   "execution_count": 9,
   "id": "e0533be9",
   "metadata": {},
   "outputs": [
    {
     "name": "stdout",
     "output_type": "stream",
     "text": [
      "              precision    recall  f1-score   support\n",
      "\n",
      "           0       1.00      0.98      0.99        43\n",
      "           1       0.88      0.86      0.87        42\n",
      "           2       0.98      1.00      0.99        40\n",
      "           3       0.97      0.88      0.92        34\n",
      "           4       0.90      1.00      0.95        37\n",
      "           5       0.85      1.00      0.92        28\n",
      "           6       1.00      0.93      0.96        28\n",
      "           7       0.94      0.94      0.94        33\n",
      "           8       0.84      0.88      0.86        43\n",
      "           9       0.96      0.81      0.88        32\n",
      "\n",
      "    accuracy                           0.93       360\n",
      "   macro avg       0.93      0.93      0.93       360\n",
      "weighted avg       0.93      0.93      0.93       360\n",
      "\n"
     ]
    }
   ],
   "source": [
    "from sklearn.linear_model import SGDClassifier\n",
    "\n",
    "sgd_model = SGDClassifier() # 모델 객체 생성\n",
    "sgd_model.fit(X_train, y_train) \n",
    "y_sgd_pred = sgd_model.predict(X_test) \n",
    "\n",
    "print(classification_report(y_test, y_sgd_pred)) "
   ]
  },
  {
   "cell_type": "markdown",
   "id": "a5b47009",
   "metadata": {},
   "source": [
    "#### (5-5) Logistic Regression 사용해 보기"
   ]
  },
  {
   "cell_type": "code",
   "execution_count": 10,
   "id": "113a71e5",
   "metadata": {
    "scrolled": false
   },
   "outputs": [
    {
     "name": "stdout",
     "output_type": "stream",
     "text": [
      "              precision    recall  f1-score   support\n",
      "\n",
      "           0       1.00      1.00      1.00        43\n",
      "           1       0.95      0.95      0.95        42\n",
      "           2       0.98      1.00      0.99        40\n",
      "           3       0.94      0.97      0.96        34\n",
      "           4       1.00      1.00      1.00        37\n",
      "           5       0.79      0.96      0.87        28\n",
      "           6       1.00      0.96      0.98        28\n",
      "           7       0.97      0.97      0.97        33\n",
      "           8       0.92      0.84      0.88        43\n",
      "           9       0.97      0.88      0.92        32\n",
      "\n",
      "    accuracy                           0.95       360\n",
      "   macro avg       0.95      0.95      0.95       360\n",
      "weighted avg       0.96      0.95      0.95       360\n",
      "\n"
     ]
    }
   ],
   "source": [
    "from sklearn.linear_model import LogisticRegression\n",
    "\n",
    "logistic_model = LogisticRegression(solver='lbfgs', max_iter=3000)\n",
    "logistic_model.fit(X_train, y_train) \n",
    "y_logic_pred = logistic_model.predict(X_test) \n",
    "\n",
    "print(classification_report(y_test, y_logic_pred)) "
   ]
  },
  {
   "cell_type": "markdown",
   "id": "c568b5c3",
   "metadata": {},
   "source": [
    "## (6) 모델을 평가해 보기 "
   ]
  },
  {
   "cell_type": "markdown",
   "id": "88776bbd",
   "metadata": {},
   "source": [
    "Accuracy, Precision, recall, F-Score 모든 부분에서 가장 좋았던 SVM 모델을 바탕으로 상세 지표들을 평가해 보았다. "
   ]
  },
  {
   "cell_type": "code",
   "execution_count": 11,
   "id": "48179ff6",
   "metadata": {
    "scrolled": true
   },
   "outputs": [
    {
     "data": {
      "text/plain": [
       "array([[43,  0,  0,  0,  0,  0,  0,  0,  0,  0],\n",
       "       [ 0, 42,  0,  0,  0,  0,  0,  0,  0,  0],\n",
       "       [ 0,  0, 40,  0,  0,  0,  0,  0,  0,  0],\n",
       "       [ 0,  0,  0, 34,  0,  0,  0,  0,  0,  0],\n",
       "       [ 0,  0,  0,  0, 37,  0,  0,  0,  0,  0],\n",
       "       [ 0,  0,  0,  0,  0, 28,  0,  0,  0,  0],\n",
       "       [ 0,  0,  0,  0,  0,  0, 28,  0,  0,  0],\n",
       "       [ 0,  0,  0,  0,  0,  0,  0, 33,  0,  0],\n",
       "       [ 0,  2,  0,  0,  0,  1,  0,  0, 40,  0],\n",
       "       [ 0,  0,  0,  0,  0,  1,  0,  0,  0, 31]], dtype=int64)"
      ]
     },
     "execution_count": 11,
     "metadata": {},
     "output_type": "execute_result"
    }
   ],
   "source": [
    "# 1. Confusion Matrix\n",
    "from sklearn.metrics import confusion_matrix\n",
    "\n",
    "confusion_matrix(y_test, y_svm_pred)"
   ]
  },
  {
   "cell_type": "markdown",
   "id": "cac2c1bb",
   "metadata": {},
   "source": [
    "### (6-1) confusion matrix \n",
    "모델이 예측한 값과 실제 값과의 차이를 나타내는 상세 값들을 confusion matrix를 조회해보았다.   \n",
    "<img src='image/confusion_matrix_case.png' width ='40%' height='30%'  >  \n",
    "\n",
    "오류가 난 데이타는 두가지 case 이다.    \n",
    "* Case 1 : 모델은 1이라고 예측 했는데 실제는 8인 경우\n",
    "* Case 2 : 모델이 5라고 예측했는데 실제는 8과 9일 경우\n",
    "\n",
    "### (6-2) confusion matrix 분석 모델\n",
    "각각에 대해 confusion matrix 분석 모델을 그려보았다. \n",
    "#### case 1\n",
    "<img src='image/case1.png' width ='50%' height='30%' >\n",
    "\n",
    "예측값1의 경우에서, 1을 예상(positive)하고 실제로도 맞춘(True)인 경우가 42건이므로\n",
    "TP는 42가 된다.    \n",
    "모델은 1이 맞다고 positive로 예상했는데, 실제로는 8이므로 틀렸다(False). FP가 된다.   \n",
    "따라서, Case 1 인 경우   \n",
    "    - Accuracy = TP + TN / (TP + FP + FN + TN)  = 42 / 44 = 0.95      \n",
    "    - Percision = TP / (TP + FP) = 42/44 =0.95   \n",
    "    - Recall =  TP / (TP + FN) = 42 / 42 = 1    \n",
    "    - F1 score = 2 * 0.95* 1 / (0.95 +1) = 0.9743 (sklearn.metrics 와 상이)  \n",
    " \n",
    "#### case 2\n",
    "<img src='image/case2.png' width ='50%' height='30%' >\n",
    "예측값 5의 경우에서, 5을 예상(Positive)하고 실제로도 5를 맞춘 경우(False)가 28건이프로 TP는 28이 된다. \n",
    "5를 예측했는데(Positive) 실제값은 8과 9인 경우로 틀렸다(False). FP는 2가 된다. \n",
    " \n",
    "따라서, Case 2 인 경우   \n",
    "    - Accuracy = TP + TN / (TP + FP + FN + TN)  = 28 / 30 = 0.93      \n",
    "    - Percision = TP / (TP + FP) = 28/30 =0.93   \n",
    "    - Recall =  TP / (TP + FN) = 28 / 28 = 1    \n",
    "    - F1 score = 2 * 0.93* 1 / (0.93 +1) = 0.9637 (sklearn.metrics 와 상이)"
   ]
  },
  {
   "cell_type": "markdown",
   "id": "50d2110b",
   "metadata": {},
   "source": [
    "### (6-3) Accuracy, Precision, Recall , F1_SCORE "
   ]
  },
  {
   "cell_type": "code",
   "execution_count": 12,
   "id": "a72f3e0a",
   "metadata": {},
   "outputs": [
    {
     "name": "stdout",
     "output_type": "stream",
     "text": [
      "              precision    recall  f1-score   support\n",
      "\n",
      "           0       1.00      1.00      1.00        43\n",
      "           1       0.95      1.00      0.98        42\n",
      "           2       1.00      1.00      1.00        40\n",
      "           3       1.00      1.00      1.00        34\n",
      "           4       1.00      1.00      1.00        37\n",
      "           5       0.93      1.00      0.97        28\n",
      "           6       1.00      1.00      1.00        28\n",
      "           7       1.00      1.00      1.00        33\n",
      "           8       1.00      0.93      0.96        43\n",
      "           9       1.00      0.97      0.98        32\n",
      "\n",
      "    accuracy                           0.99       360\n",
      "   macro avg       0.99      0.99      0.99       360\n",
      "weighted avg       0.99      0.99      0.99       360\n",
      "\n",
      "Accuracy: 0.9889\n",
      "Precision: 0.9888\n",
      "Recall: 0.9899\n",
      "F1_SCORE: 0.9890\n"
     ]
    }
   ],
   "source": [
    "# Accuracy, Precision, Recall, F1_SCORE\n",
    "evaluate_classifier(y_test, y_svm_pred)"
   ]
  },
  {
   "cell_type": "markdown",
   "id": "0d27bd1d",
   "metadata": {},
   "source": [
    "sklearn.metrics에서 산출한 Accuracy, Precision,Recall,F1_SCORE를 확인해보았다. \n",
    "\n",
    "다른 지표들은 sklearn.metrics 에서 산출한 내용과 동일하지만, F1 score는 차이가 있는 것으로 보아 sklearn.metrics 내부적으로 다른 추가 가중치가 있으리라 추정된다. \n",
    "\n"
   ]
  },
  {
   "cell_type": "markdown",
   "id": "785d9ead",
   "metadata": {},
   "source": [
    "### (6-4) ROC_ACU_SCORE 산출 시도"
   ]
  },
  {
   "cell_type": "markdown",
   "id": "4e31396a",
   "metadata": {},
   "source": [
    "ROC_ACU_SCORE 산출을 시도해 보았다.    \n",
    "다음은 ROC_ACU_SCORE는 아래와 같이 TPR과 FPR 그래프로 유추해보았다. \n",
    "<img src='image/tpr.png' width ='40%' height='30%' >\n",
    "\n",
    "\n",
    "TPR = TP/(TP+FN) = 365/(365 + 4) = 0.98 (=Recall)<br>\n",
    "TNR : True Negative Rate(=특이도)<br>\n",
    "FPR:  False Positive Rate (=1-TNR, false accept rate)<br>\n",
    "\n",
    "<img src='image/TPR_FPR.png' width ='40%' height='30%' >\n",
    "TPR dl 0.98로 초록색 상자 부분까지 그래프가 나타나므로 ROC도 0.9이상의 좋은 성능으로 가능하다."
   ]
  },
  {
   "cell_type": "markdown",
   "id": "b67f45e1",
   "metadata": {},
   "source": [
    "### 평가 의견"
   ]
  },
  {
   "cell_type": "markdown",
   "id": "00933ff4",
   "metadata": {},
   "source": [
    "* load_digits 데이타는 0~9라는 숫자를 분류하는 범주형 데이타 분석으로, \n",
    "labeled된 데이타를 가지고 있어 Classification 분석이 가능한 데이타 입니다.\n",
    "* load_digits에서 SVM 모델은 Accuracy, Precision, Recall, F1 Score , ROC_ACU_SCORE도 모든 평가지표가 0.98 이상으로 우수하다.\n",
    "* 특히 주목을 해서 보았던 지표는 Accuracy와 Precision이다. \n",
    "전체 예측치중에서 실제로 맞춘 정도를 표현하는 Accuracy에서 0.98이상으로 우수하며, \n",
    "Positive로 예상했던 것중에서 실제로 Positive한 것을 측정하는 Precision에서도 0.98이상을 기록해 우수하다고 할 수있다. \n",
    "\n",
    "* load_digits에 대해서 SVM는 좋은 분류 성능을보인다고 평가 할 수 있다.\n",
    "\n"
   ]
  },
  {
   "cell_type": "markdown",
   "id": "bbf45406",
   "metadata": {},
   "source": [
    "### 회고"
   ]
  },
  {
   "cell_type": "markdown",
   "id": "f1524c96",
   "metadata": {},
   "source": [
    "* 처음에는 scikit-learn의 Digits 데이타 자체가 낯설고 어떻게 이해해야 막막했는데,\n",
    "Digits 데이타 깊이 탐색하기 를 통해서 좀 더 깊이 데이타를 들여다 보고, 하나하나 \n",
    "뜯어보며 이해의 폭을 넓힐 수 있었다.\n",
    "\n",
    "* 분석을 잘 하기 위해서는 데이타를 제대로 보는 것이 먼저라는 것을 알았다.\n",
    "\n",
    "* confusion matrix에서 오류에 대한 예측치와 실제값을 조회하고, TP와 FP를 찾아내는\n",
    "과정을 실제로 해보면서 그냥 공식만 알고 넘어갈 뻔했던 Precision, recall의 개념을 \n",
    "깊이있게 이해할 수 있었다. \n",
    "\n",
    "* ROC_ACU_SCORE 에 대해서 그래프를 그려보고 있었는데, class가 많은 다차원의 경우 처리가 쉽지 않아 일단 나중에 다시 보기로 했다. \n",
    "\n",
    "* confusion matrix를 통해서 1이라고 예측한 것이 사실 8이였던 Case 1에 대해 실제로 그 이미지를 찾아 확인해 보아야 한다.\n"
   ]
  },
  {
   "cell_type": "markdown",
   "id": "c24eb7c8",
   "metadata": {},
   "source": [
    "## (2) Load_Wine 와인 분류"
   ]
  },
  {
   "cell_type": "markdown",
   "id": "9e9a7647",
   "metadata": {},
   "source": [
    "### (1)필요한 모듈 import하기"
   ]
  },
  {
   "cell_type": "code",
   "execution_count": 6,
   "id": "ffee1921",
   "metadata": {},
   "outputs": [],
   "source": [
    "from sklearn.datasets import load_wine"
   ]
  },
  {
   "cell_type": "markdown",
   "id": "cf9a8665",
   "metadata": {},
   "source": [
    "### (2) 데이터 준비"
   ]
  },
  {
   "cell_type": "code",
   "execution_count": 7,
   "id": "cce49194",
   "metadata": {},
   "outputs": [],
   "source": [
    "wine = load_wine()"
   ]
  },
  {
   "cell_type": "markdown",
   "id": "a988f636",
   "metadata": {},
   "source": [
    "### (3) 데이터 이해하기"
   ]
  },
  {
   "cell_type": "code",
   "execution_count": 8,
   "id": "fdc447ea",
   "metadata": {},
   "outputs": [
    {
     "data": {
      "text/plain": [
       "array(['class_0', 'class_1', 'class_2'], dtype='<U7')"
      ]
     },
     "execution_count": 8,
     "metadata": {},
     "output_type": "execute_result"
    }
   ],
   "source": [
    "# Feature Data 지정\n",
    "wine_data = wine.data #iris데이터의 data컬럼을 분류해 iris_data 변수에 담는다.\n",
    "\n",
    "# Label Data 지정하기\n",
    "wine_label = wine.target #iris데이터의 target컬럼을 분류해 iris_label 변수에 담는다.\n",
    "\n",
    "# Target Names 출력해 보기\n",
    "wine.target_names\n",
    "\n"
   ]
  },
  {
   "cell_type": "markdown",
   "id": "57b82d26",
   "metadata": {},
   "source": [
    "### (4) train, test 데이터 분리"
   ]
  },
  {
   "cell_type": "code",
   "execution_count": 9,
   "id": "491012b1",
   "metadata": {},
   "outputs": [],
   "source": [
    "X_train, X_test, y_train, y_test = train_test_split(wine_data, \n",
    "                                                    wine_label, \n",
    "                                                    test_size=0.2, \n",
    "                                                    random_state=7) "
   ]
  },
  {
   "cell_type": "markdown",
   "id": "d119b9d5",
   "metadata": {},
   "source": [
    "### (5) 다양한 모델로 학습시켜보기"
   ]
  },
  {
   "cell_type": "markdown",
   "id": "9650b860",
   "metadata": {},
   "source": [
    "#### (5-1) Decision Tree 사용해 보기"
   ]
  },
  {
   "cell_type": "code",
   "execution_count": 10,
   "id": "23f7b884",
   "metadata": {},
   "outputs": [
    {
     "name": "stdout",
     "output_type": "stream",
     "text": [
      "              precision    recall  f1-score   support\n",
      "\n",
      "           0       1.00      1.00      1.00         7\n",
      "           1       0.89      1.00      0.94        17\n",
      "           2       1.00      0.83      0.91        12\n",
      "\n",
      "    accuracy                           0.94        36\n",
      "   macro avg       0.96      0.94      0.95        36\n",
      "weighted avg       0.95      0.94      0.94        36\n",
      "\n"
     ]
    }
   ],
   "source": [
    "from sklearn.tree import DecisionTreeClassifier\n",
    "\n",
    "decision_tree = DecisionTreeClassifier(random_state=32) \n",
    "decision_tree.fit(X_train, y_train) \n",
    "y_pred = decision_tree.predict(X_test) \n",
    "y_pred_prob = decision_tree.predict_proba(X_test)\n",
    "\n",
    "\n",
    "print(classification_report(y_test, y_pred)) \n"
   ]
  },
  {
   "cell_type": "markdown",
   "id": "a809b0f6",
   "metadata": {},
   "source": [
    "#### (5-2) Random Forest 사용해 보기"
   ]
  },
  {
   "cell_type": "code",
   "execution_count": 19,
   "id": "043e1dbf",
   "metadata": {},
   "outputs": [
    {
     "name": "stdout",
     "output_type": "stream",
     "text": [
      "              precision    recall  f1-score   support\n",
      "\n",
      "           0       1.00      1.00      1.00         7\n",
      "           1       1.00      1.00      1.00        17\n",
      "           2       1.00      1.00      1.00        12\n",
      "\n",
      "    accuracy                           1.00        36\n",
      "   macro avg       1.00      1.00      1.00        36\n",
      "weighted avg       1.00      1.00      1.00        36\n",
      "\n"
     ]
    }
   ],
   "source": [
    "from sklearn.ensemble import RandomForestClassifier\n",
    "\n",
    "random_forest = RandomForestClassifier(n_estimators=10, random_state=32) \n",
    "random_forest.fit(X_train, y_train) \n",
    "y_random_pred = random_forest.predict(X_test) \n",
    "\n",
    "print(classification_report(y_test, y_random_pred)) "
   ]
  },
  {
   "cell_type": "markdown",
   "id": "1471f69c",
   "metadata": {},
   "source": [
    "#### (5-3)  SVM 사용해 보기"
   ]
  },
  {
   "cell_type": "code",
   "execution_count": 12,
   "id": "87971c81",
   "metadata": {},
   "outputs": [
    {
     "name": "stdout",
     "output_type": "stream",
     "text": [
      "              precision    recall  f1-score   support\n",
      "\n",
      "           0       0.86      0.86      0.86         7\n",
      "           1       0.58      0.88      0.70        17\n",
      "           2       0.33      0.08      0.13        12\n",
      "\n",
      "    accuracy                           0.61        36\n",
      "   macro avg       0.59      0.61      0.56        36\n",
      "weighted avg       0.55      0.61      0.54        36\n",
      "\n"
     ]
    }
   ],
   "source": [
    "from sklearn import svm #Support Vector Machine을 사용하기 위해 import\n",
    "\n",
    "svm_model = svm.SVC() # 모델 객체를 만든다.\n",
    "svm_model.fit(X_train, y_train) \n",
    "y_pred = svm_model.predict(X_test) \n",
    "\n",
    "print(classification_report(y_test, y_pred)) "
   ]
  },
  {
   "cell_type": "markdown",
   "id": "a81c653e",
   "metadata": {},
   "source": [
    "#### (5-4) SGD Classifier 사용해 보기"
   ]
  },
  {
   "cell_type": "code",
   "execution_count": 13,
   "id": "4520456d",
   "metadata": {},
   "outputs": [
    {
     "name": "stdout",
     "output_type": "stream",
     "text": [
      "              precision    recall  f1-score   support\n",
      "\n",
      "           0       0.44      1.00      0.61         7\n",
      "           1       0.88      0.41      0.56        17\n",
      "           2       0.42      0.42      0.42        12\n",
      "\n",
      "    accuracy                           0.53        36\n",
      "   macro avg       0.58      0.61      0.53        36\n",
      "weighted avg       0.64      0.53      0.52        36\n",
      "\n"
     ]
    }
   ],
   "source": [
    "from sklearn.linear_model import SGDClassifier\n",
    "\n",
    "sgd_model = SGDClassifier() # 모델 객체 생성\n",
    "sgd_model.fit(X_train, y_train) \n",
    "y_pred = sgd_model.predict(X_test) \n",
    "\n",
    "print(classification_report(y_test, y_pred)) "
   ]
  },
  {
   "cell_type": "markdown",
   "id": "3e7e702d",
   "metadata": {},
   "source": [
    "#### (5-5) Logistic Regression 사용해 보기"
   ]
  },
  {
   "cell_type": "code",
   "execution_count": 14,
   "id": "820a6e46",
   "metadata": {},
   "outputs": [
    {
     "name": "stdout",
     "output_type": "stream",
     "text": [
      "              precision    recall  f1-score   support\n",
      "\n",
      "           0       1.00      1.00      1.00         7\n",
      "           1       0.94      1.00      0.97        17\n",
      "           2       1.00      0.92      0.96        12\n",
      "\n",
      "    accuracy                           0.97        36\n",
      "   macro avg       0.98      0.97      0.98        36\n",
      "weighted avg       0.97      0.97      0.97        36\n",
      "\n"
     ]
    }
   ],
   "source": [
    "from sklearn.linear_model import LogisticRegression\n",
    "\n",
    "logistic_model = LogisticRegression(solver='lbfgs', max_iter=3000)\n",
    "logistic_model.fit(X_train, y_train) \n",
    "y_pred = logistic_model.predict(X_test) \n",
    "\n",
    "print(classification_report(y_test, y_pred)) "
   ]
  },
  {
   "cell_type": "markdown",
   "id": "4859814d",
   "metadata": {},
   "source": [
    "## (6) 평가 하기"
   ]
  },
  {
   "cell_type": "markdown",
   "id": "020347f7",
   "metadata": {},
   "source": [
    "accuracy, precision, recall, f1-score 지표가 좋은 Random Forest Model에 대해 자세한 평가를 진행했다. \n",
    "\n"
   ]
  },
  {
   "cell_type": "markdown",
   "id": "b1322a8a",
   "metadata": {},
   "source": [
    "### (6-1) Confusion Matrix "
   ]
  },
  {
   "cell_type": "code",
   "execution_count": 18,
   "id": "25de5c0d",
   "metadata": {},
   "outputs": [
    {
     "data": {
      "text/plain": [
       "array([[ 7,  0,  0],\n",
       "       [ 0, 17,  0],\n",
       "       [ 0,  0, 12]], dtype=int64)"
      ]
     },
     "execution_count": 18,
     "metadata": {},
     "output_type": "execute_result"
    }
   ],
   "source": [
    "from sklearn.metrics import confusion_matrix\n",
    "confusion_matrix(y_test, y_random_pred)"
   ]
  },
  {
   "cell_type": "code",
   "execution_count": null,
   "id": "8672bb57",
   "metadata": {},
   "outputs": [],
   "source": [
    "예측값이 모두 정답을 맞추었기에 더 이상 살펴볼 것이 없었다. "
   ]
  },
  {
   "cell_type": "code",
   "execution_count": 17,
   "id": "84bae908",
   "metadata": {
    "scrolled": true
   },
   "outputs": [
    {
     "name": "stdout",
     "output_type": "stream",
     "text": [
      "              precision    recall  f1-score   support\n",
      "\n",
      "           0       1.00      1.00      1.00         7\n",
      "           1       1.00      1.00      1.00        17\n",
      "           2       1.00      1.00      1.00        12\n",
      "\n",
      "    accuracy                           1.00        36\n",
      "   macro avg       1.00      1.00      1.00        36\n",
      "weighted avg       1.00      1.00      1.00        36\n",
      "\n",
      "Accuracy: 1.0000\n",
      "Precision: 1.0000\n",
      "Recall: 1.0000\n",
      "F1_SCORE: 1.0000\n"
     ]
    }
   ],
   "source": [
    "# Accuracy, Precision, Recall, F1_SCORE\n",
    "evaluate_classifier(y_test, y_random_pred)"
   ]
  },
  {
   "cell_type": "markdown",
   "id": "bbbdc413",
   "metadata": {},
   "source": [
    "### (6-2) Random Decision Tree 분석"
   ]
  },
  {
   "cell_type": "markdown",
   "id": "3807092a",
   "metadata": {},
   "source": [
    "모델 생성에서  RandomForestClassifier( __n_estimators=10__ , random_state=32) __n_estimators=10__  파라미터를 이용해서 생성되는 Tree를 10개로 하고 실제 생성 트리를 비교해 보았다. \n",
    "\n",
    "생성되는 10개 모두 다른 Tree이고, 초기 분류기준도, Samples도 각각 랜덤하게 추출되어서 분류되는 과정을 볼 수 있었다. \n",
    "\n",
    "만일 Random Decision Tree에서 Tree가 1개 라면 Decision Tree 모델을 선택했을 때와 같을까? \n",
    "지표값을 비교했을 때는 같았지만, 구체적으로 실제 생성된 트리를 비교하니 초기 분류기준도, Samples 수도 다름을 확인했다.  \n",
    "\n"
   ]
  },
  {
   "cell_type": "code",
   "execution_count": null,
   "id": "c4e103bd",
   "metadata": {},
   "outputs": [],
   "source": []
  },
  {
   "cell_type": "markdown",
   "id": "4956732c",
   "metadata": {},
   "source": [
    "### 회고"
   ]
  },
  {
   "cell_type": "markdown",
   "id": "57602780",
   "metadata": {},
   "source": [
    "* Random Decision Tree를 생성할 때 생성하고 싶은 트리의 갯수를 넣어 조절할 수 있는 것을 알았다. \n",
    "* 생성 될 때마다 다른 분류기준과, 다른 Samples 수들로 분류가 수행됨을 확인했다. \n",
    "* 만일 Random Tree의 Tree수를 1개로 할 때 Decision Tree와 성능 지표는 같지만 실제 트리의 내용은 다름을 확인했다. \n",
    "* "
   ]
  },
  {
   "cell_type": "markdown",
   "id": "1e0ba57e",
   "metadata": {},
   "source": [
    " # (3) load_breast_cancer"
   ]
  },
  {
   "cell_type": "markdown",
   "id": "64a66b56",
   "metadata": {},
   "source": [
    "### (1)필요한 모듈 import하기"
   ]
  },
  {
   "cell_type": "code",
   "execution_count": 29,
   "id": "704fdea2",
   "metadata": {},
   "outputs": [],
   "source": [
    "from sklearn.datasets import load_breast_cancer"
   ]
  },
  {
   "cell_type": "markdown",
   "id": "71218c66",
   "metadata": {},
   "source": [
    "### (2) 데이터 준비"
   ]
  },
  {
   "cell_type": "code",
   "execution_count": 30,
   "id": "5d05074f",
   "metadata": {},
   "outputs": [],
   "source": [
    "cancer = load_breast_cancer()"
   ]
  },
  {
   "cell_type": "markdown",
   "id": "51824917",
   "metadata": {},
   "source": [
    "### (3) 데이터 이해하기"
   ]
  },
  {
   "cell_type": "code",
   "execution_count": 34,
   "id": "b0f829fb",
   "metadata": {},
   "outputs": [
    {
     "name": "stdout",
     "output_type": "stream",
     "text": [
      ".. _breast_cancer_dataset:\n",
      "\n",
      "Breast cancer wisconsin (diagnostic) dataset\n",
      "--------------------------------------------\n",
      "\n",
      "**Data Set Characteristics:**\n",
      "\n",
      "    :Number of Instances: 569\n",
      "\n",
      "    :Number of Attributes: 30 numeric, predictive attributes and the class\n",
      "\n",
      "    :Attribute Information:\n",
      "        - radius (mean of distances from center to points on the perimeter)\n",
      "        - texture (standard deviation of gray-scale values)\n",
      "        - perimeter\n",
      "        - area\n",
      "        - smoothness (local variation in radius lengths)\n",
      "        - compactness (perimeter^2 / area - 1.0)\n",
      "        - concavity (severity of concave portions of the contour)\n",
      "        - concave points (number of concave portions of the contour)\n",
      "        - symmetry\n",
      "        - fractal dimension (\"coastline approximation\" - 1)\n",
      "\n",
      "        The mean, standard error, and \"worst\" or largest (mean of the three\n",
      "        worst/largest values) of these features were computed for each image,\n",
      "        resulting in 30 features.  For instance, field 0 is Mean Radius, field\n",
      "        10 is Radius SE, field 20 is Worst Radius.\n",
      "\n",
      "        - class:\n",
      "                - WDBC-Malignant\n",
      "                - WDBC-Benign\n",
      "\n",
      "    :Summary Statistics:\n",
      "\n",
      "    ===================================== ====== ======\n",
      "                                           Min    Max\n",
      "    ===================================== ====== ======\n",
      "    radius (mean):                        6.981  28.11\n",
      "    texture (mean):                       9.71   39.28\n",
      "    perimeter (mean):                     43.79  188.5\n",
      "    area (mean):                          143.5  2501.0\n",
      "    smoothness (mean):                    0.053  0.163\n",
      "    compactness (mean):                   0.019  0.345\n",
      "    concavity (mean):                     0.0    0.427\n",
      "    concave points (mean):                0.0    0.201\n",
      "    symmetry (mean):                      0.106  0.304\n",
      "    fractal dimension (mean):             0.05   0.097\n",
      "    radius (standard error):              0.112  2.873\n",
      "    texture (standard error):             0.36   4.885\n",
      "    perimeter (standard error):           0.757  21.98\n",
      "    area (standard error):                6.802  542.2\n",
      "    smoothness (standard error):          0.002  0.031\n",
      "    compactness (standard error):         0.002  0.135\n",
      "    concavity (standard error):           0.0    0.396\n",
      "    concave points (standard error):      0.0    0.053\n",
      "    symmetry (standard error):            0.008  0.079\n",
      "    fractal dimension (standard error):   0.001  0.03\n",
      "    radius (worst):                       7.93   36.04\n",
      "    texture (worst):                      12.02  49.54\n",
      "    perimeter (worst):                    50.41  251.2\n",
      "    area (worst):                         185.2  4254.0\n",
      "    smoothness (worst):                   0.071  0.223\n",
      "    compactness (worst):                  0.027  1.058\n",
      "    concavity (worst):                    0.0    1.252\n",
      "    concave points (worst):               0.0    0.291\n",
      "    symmetry (worst):                     0.156  0.664\n",
      "    fractal dimension (worst):            0.055  0.208\n",
      "    ===================================== ====== ======\n",
      "\n",
      "    :Missing Attribute Values: None\n",
      "\n",
      "    :Class Distribution: 212 - Malignant, 357 - Benign\n",
      "\n",
      "    :Creator:  Dr. William H. Wolberg, W. Nick Street, Olvi L. Mangasarian\n",
      "\n",
      "    :Donor: Nick Street\n",
      "\n",
      "    :Date: November, 1995\n",
      "\n",
      "This is a copy of UCI ML Breast Cancer Wisconsin (Diagnostic) datasets.\n",
      "https://goo.gl/U2Uwz2\n",
      "\n",
      "Features are computed from a digitized image of a fine needle\n",
      "aspirate (FNA) of a breast mass.  They describe\n",
      "characteristics of the cell nuclei present in the image.\n",
      "\n",
      "Separating plane described above was obtained using\n",
      "Multisurface Method-Tree (MSM-T) [K. P. Bennett, \"Decision Tree\n",
      "Construction Via Linear Programming.\" Proceedings of the 4th\n",
      "Midwest Artificial Intelligence and Cognitive Science Society,\n",
      "pp. 97-101, 1992], a classification method which uses linear\n",
      "programming to construct a decision tree.  Relevant features\n",
      "were selected using an exhaustive search in the space of 1-4\n",
      "features and 1-3 separating planes.\n",
      "\n",
      "The actual linear program used to obtain the separating plane\n",
      "in the 3-dimensional space is that described in:\n",
      "[K. P. Bennett and O. L. Mangasarian: \"Robust Linear\n",
      "Programming Discrimination of Two Linearly Inseparable Sets\",\n",
      "Optimization Methods and Software 1, 1992, 23-34].\n",
      "\n",
      "This database is also available through the UW CS ftp server:\n",
      "\n",
      "ftp ftp.cs.wisc.edu\n",
      "cd math-prog/cpo-dataset/machine-learn/WDBC/\n",
      "\n",
      ".. topic:: References\n",
      "\n",
      "   - W.N. Street, W.H. Wolberg and O.L. Mangasarian. Nuclear feature extraction \n",
      "     for breast tumor diagnosis. IS&T/SPIE 1993 International Symposium on \n",
      "     Electronic Imaging: Science and Technology, volume 1905, pages 861-870,\n",
      "     San Jose, CA, 1993.\n",
      "   - O.L. Mangasarian, W.N. Street and W.H. Wolberg. Breast cancer diagnosis and \n",
      "     prognosis via linear programming. Operations Research, 43(4), pages 570-577, \n",
      "     July-August 1995.\n",
      "   - W.H. Wolberg, W.N. Street, and O.L. Mangasarian. Machine learning techniques\n",
      "     to diagnose breast cancer from fine-needle aspirates. Cancer Letters 77 (1994) \n",
      "     163-171.\n"
     ]
    }
   ],
   "source": [
    "# Feature Data 지정\n",
    "cancer_data = cancer.data \n",
    "cancer_label = cancer.target\n",
    "cancer.target_names\n",
    "print(cancer.DESCR)"
   ]
  },
  {
   "cell_type": "markdown",
   "id": "40db17d0",
   "metadata": {},
   "source": [
    "### (4) train, test 데이터 분리"
   ]
  },
  {
   "cell_type": "code",
   "execution_count": 35,
   "id": "e1ffb54d",
   "metadata": {},
   "outputs": [],
   "source": [
    "X_train, X_test, y_train, y_test = train_test_split(cancer_data, \n",
    "                                                    cancer_label, \n",
    "                                                    test_size=0.2, \n",
    "                                                    random_state=7) "
   ]
  },
  {
   "cell_type": "markdown",
   "id": "51b028f3",
   "metadata": {},
   "source": [
    "### (5) 다양한 모델로 학습시켜보기"
   ]
  },
  {
   "cell_type": "markdown",
   "id": "a4fe461a",
   "metadata": {},
   "source": [
    "#### (5-1) Decision Tree 사용해 보기"
   ]
  },
  {
   "cell_type": "code",
   "execution_count": 43,
   "id": "ea05b973",
   "metadata": {},
   "outputs": [
    {
     "name": "stdout",
     "output_type": "stream",
     "text": [
      "              precision    recall  f1-score   support\n",
      "\n",
      "           0       0.92      0.82      0.87        40\n",
      "           1       0.91      0.96      0.93        74\n",
      "\n",
      "    accuracy                           0.91       114\n",
      "   macro avg       0.91      0.89      0.90       114\n",
      "weighted avg       0.91      0.91      0.91       114\n",
      "\n"
     ]
    }
   ],
   "source": [
    "from sklearn.tree import DecisionTreeClassifier\n",
    "\n",
    "decision_tree = DecisionTreeClassifier(random_state=32) \n",
    "decision_tree.fit(X_train, y_train) \n",
    "y_pred = decision_tree.predict(X_test) \n",
    "print(classification_report(y_test, y_pred)) "
   ]
  },
  {
   "cell_type": "markdown",
   "id": "e83c4581",
   "metadata": {},
   "source": [
    "#### (5-2) Random Forest 사용해 보기"
   ]
  },
  {
   "cell_type": "code",
   "execution_count": 67,
   "id": "4280937e",
   "metadata": {},
   "outputs": [
    {
     "name": "stdout",
     "output_type": "stream",
     "text": [
      "              precision    recall  f1-score   support\n",
      "\n",
      "           0       1.00      1.00      1.00        40\n",
      "           1       1.00      1.00      1.00        74\n",
      "\n",
      "    accuracy                           1.00       114\n",
      "   macro avg       1.00      1.00      1.00       114\n",
      "weighted avg       1.00      1.00      1.00       114\n",
      "\n"
     ]
    }
   ],
   "source": [
    "from sklearn.ensemble import RandomForestClassifier\n",
    "\n",
    "random_forest = RandomForestClassifier(random_state=32) \n",
    "random_forest.fit(X_train, y_train) \n",
    "y_random_pred = random_forest.predict(X_test) \n",
    "\n",
    "print(classification_report(y_test, y_random_pred)) "
   ]
  },
  {
   "cell_type": "markdown",
   "id": "ebbb9540",
   "metadata": {},
   "source": [
    "### (5-3) SVM 사용해 보기"
   ]
  },
  {
   "cell_type": "code",
   "execution_count": 45,
   "id": "91cc557b",
   "metadata": {},
   "outputs": [
    {
     "name": "stdout",
     "output_type": "stream",
     "text": [
      "              precision    recall  f1-score   support\n",
      "\n",
      "           0       1.00      0.72      0.84        40\n",
      "           1       0.87      1.00      0.93        74\n",
      "\n",
      "    accuracy                           0.90       114\n",
      "   macro avg       0.94      0.86      0.89       114\n",
      "weighted avg       0.92      0.90      0.90       114\n",
      "\n"
     ]
    }
   ],
   "source": [
    "from sklearn import svm #Support Vector Machine을 사용하기 위해 import\n",
    "\n",
    "svm_model = svm.SVC() \n",
    "svm_model.fit(X_train, y_train) \n",
    "y_pred = svm_model.predict(X_test) \n",
    "\n",
    "print(classification_report(y_test, y_pred))"
   ]
  },
  {
   "cell_type": "markdown",
   "id": "39060113",
   "metadata": {},
   "source": [
    "### (5-4) SGD Classifier 사용해 보기"
   ]
  },
  {
   "cell_type": "code",
   "execution_count": 46,
   "id": "0491927e",
   "metadata": {},
   "outputs": [
    {
     "name": "stdout",
     "output_type": "stream",
     "text": [
      "              precision    recall  f1-score   support\n",
      "\n",
      "           0       1.00      0.20      0.33        40\n",
      "           1       0.70      1.00      0.82        74\n",
      "\n",
      "    accuracy                           0.72       114\n",
      "   macro avg       0.85      0.60      0.58       114\n",
      "weighted avg       0.80      0.72      0.65       114\n",
      "\n"
     ]
    }
   ],
   "source": [
    "from sklearn.linear_model import SGDClassifier\n",
    "\n",
    "sgd_model = SGDClassifier() # 모델 객체 생성\n",
    "sgd_model.fit(X_train, y_train) \n",
    "y_pred = sgd_model.predict(X_test) \n",
    "\n",
    "print(classification_report(y_test, y_pred)) "
   ]
  },
  {
   "cell_type": "markdown",
   "id": "3d1d74cd",
   "metadata": {},
   "source": [
    "### (5-5) Logistic Regression 사용해 보기"
   ]
  },
  {
   "cell_type": "code",
   "execution_count": 47,
   "id": "2972ebca",
   "metadata": {},
   "outputs": [
    {
     "name": "stdout",
     "output_type": "stream",
     "text": [
      "              precision    recall  f1-score   support\n",
      "\n",
      "           0       1.00      0.85      0.92        40\n",
      "           1       0.93      1.00      0.96        74\n",
      "\n",
      "    accuracy                           0.95       114\n",
      "   macro avg       0.96      0.93      0.94       114\n",
      "weighted avg       0.95      0.95      0.95       114\n",
      "\n"
     ]
    }
   ],
   "source": [
    "from sklearn.linear_model import LogisticRegression\n",
    "\n",
    "logistic_model = LogisticRegression(solver='lbfgs', max_iter=3000)\n",
    "logistic_model.fit(X_train, y_train) \n",
    "y_pred = logistic_model.predict(X_test) \n",
    "\n",
    "print(classification_report(y_test, y_pred)) "
   ]
  },
  {
   "cell_type": "markdown",
   "id": "eb251264",
   "metadata": {},
   "source": [
    "### 평가하기"
   ]
  },
  {
   "cell_type": "code",
   "execution_count": null,
   "id": "96a8e5de",
   "metadata": {},
   "outputs": [],
   "source": []
  },
  {
   "cell_type": "code",
   "execution_count": 74,
   "id": "2ded3e51",
   "metadata": {},
   "outputs": [
    {
     "name": "stdout",
     "output_type": "stream",
     "text": [
      "TPR : 1.0  FPR: 0.0\n"
     ]
    }
   ],
   "source": [
    "\n",
    "cm = confusion_matrix(y_test, y_random_pred)\n",
    "TN = cm[0, 0]\n",
    "FP = cm[0, 1]\n",
    "FN = cm[1, 0]\n",
    "TP = cm[1, 1]\n",
    "\n",
    "# Calculates tpr and fpr\n",
    "tpr =  TP/(TP + FN) # sensitivity - true positive rate\n",
    "fpr = 1 - TN/(TN+FP) # 1-specificity - false positive rate\n",
    "print('TPR : {0}  FPR: {1}'.format(tpr,fpr))"
   ]
  },
  {
   "cell_type": "code",
   "execution_count": 68,
   "id": "eb042b59",
   "metadata": {},
   "outputs": [
    {
     "name": "stdout",
     "output_type": "stream",
     "text": [
      "              precision    recall  f1-score   support\n",
      "\n",
      "           0       1.00      1.00      1.00        40\n",
      "           1       1.00      1.00      1.00        74\n",
      "\n",
      "    accuracy                           1.00       114\n",
      "   macro avg       1.00      1.00      1.00       114\n",
      "weighted avg       1.00      1.00      1.00       114\n",
      "\n",
      "Accuracy: 1.0000\n",
      "Precision: 1.0000\n",
      "Recall: 1.0000\n",
      "F1_SCORE: 1.0000\n"
     ]
    }
   ],
   "source": [
    "evaluate_classifier(y_test, y_random_pred)"
   ]
  },
  {
   "cell_type": "code",
   "execution_count": 58,
   "id": "3086bfff",
   "metadata": {},
   "outputs": [],
   "source": [
    "from sklearn.metrics import roc_curve\n",
    "from sklearn.metrics import RocCurveDisplay\n",
    "def plot_sklearn_roc_curve(y_test, y_pred):\n",
    "    fpr, tpr, _ = roc_curve(y_test, y_pred)\n",
    "    roc_display = RocCurveDisplay(fpr=fpr, tpr=tpr).plot()\n",
    "    roc_display.figure_.set_size_inches(5,5)"
   ]
  },
  {
   "cell_type": "code",
   "execution_count": 69,
   "id": "213702fc",
   "metadata": {},
   "outputs": [
    {
     "data": {
      "image/png": "[encoded data removed]",
      "text/plain": [
       "<Figure size 500x500 with 1 Axes>"
      ]
     },
     "metadata": {},
     "output_type": "display_data"
    }
   ],
   "source": [
    "#tpr, fpr = get_n_roc_coordinates(y_test, y_proba, resolution = 10)\n",
    "y_proba = random_forest.predict_proba(X_test)\n",
    "plot_sklearn_roc_curve(y_test, y_proba[:, 1])"
   ]
  },
  {
   "cell_type": "code",
   "execution_count": null,
   "id": "9acb5bd7",
   "metadata": {},
   "outputs": [],
   "source": [
    "logistic_model.evaluate(X_test,y_train)"
   ]
  }
 ],
 "metadata": {
  "kernelspec": {
   "display_name": "Python 3 (ipykernel)",
   "language": "python",
   "name": "python3"
  },
  "language_info": {
   "codemirror_mode": {
    "name": "ipython",
    "version": 3
   },
   "file_extension": ".py",
   "mimetype": "text/x-python",
   "name": "python",
   "nbconvert_exporter": "python",
   "pygments_lexer": "ipython3",
   "version": "3.9.13"
  }
 },
 "nbformat": 4,
 "nbformat_minor": 5
}
