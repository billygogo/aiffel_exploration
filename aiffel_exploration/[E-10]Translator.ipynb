{
 "cells": [
  {
   "attachments": {},
   "cell_type": "markdown",
   "metadata": {},
   "source": [
    "# [E-10]Translator"
   ]
  },
  {
   "cell_type": "code",
   "execution_count": 1,
   "metadata": {},
   "outputs": [],
   "source": [
    "\n",
    "import tensorflow\n",
    "import pandas as pd\n",
    "from tensorflow.keras.preprocessing.text import Tokenizer\n",
    "from tensorflow.keras.preprocessing.sequence import pad_sequences\n",
    "from tensorflow.keras.utils import to_categorical\n",
    "import numpy as np\n",
    "import re"
   ]
  },
  {
   "cell_type": "code",
   "execution_count": 2,
   "metadata": {},
   "outputs": [
    {
     "data": {
      "text/plain": [
       "'  $ mkdir -p ~/aiffel/translator_seq2seq/data   \\n$ mkdir -p ~/aiffel/translator_seq2seq/models   \\n$ wget https://www.manythings.org/anki/fra-eng.zip      \\n$ mv fra-eng.zip  ~/aiffel/translator_seq2seq/data   \\n$ cd ~/aiffel/translator_seq2seq/data && unzip fra-eng.zip   '"
      ]
     },
     "execution_count": 2,
     "metadata": {},
     "output_type": "execute_result"
    }
   ],
   "source": [
    "\"\"\"  $ mkdir -p ~/aiffel/translator_seq2seq/data   \n",
    "$ mkdir -p ~/aiffel/translator_seq2seq/models   \n",
    "$ wget https://www.manythings.org/anki/fra-eng.zip      \n",
    "$ mv fra-eng.zip  ~/aiffel/translator_seq2seq/data   \n",
    "$ cd ~/aiffel/translator_seq2seq/data && unzip fra-eng.zip   \"\"\""
   ]
  },
  {
   "cell_type": "code",
   "execution_count": 3,
   "metadata": {},
   "outputs": [
    {
     "name": "stdout",
     "output_type": "stream",
     "text": [
      "전체 샘플의 수 : 217975\n"
     ]
    },
    {
     "data": {
      "text/html": [
       "<div>\n",
       "<style scoped>\n",
       "    .dataframe tbody tr th:only-of-type {\n",
       "        vertical-align: middle;\n",
       "    }\n",
       "\n",
       "    .dataframe tbody tr th {\n",
       "        vertical-align: top;\n",
       "    }\n",
       "\n",
       "    .dataframe thead th {\n",
       "        text-align: right;\n",
       "    }\n",
       "</style>\n",
       "<table border=\"1\" class=\"dataframe\">\n",
       "  <thead>\n",
       "    <tr style=\"text-align: right;\">\n",
       "      <th></th>\n",
       "      <th>eng</th>\n",
       "      <th>fra</th>\n",
       "      <th>cc</th>\n",
       "    </tr>\n",
       "  </thead>\n",
       "  <tbody>\n",
       "    <tr>\n",
       "      <th>202025</th>\n",
       "      <td>Pregnant women often experience morning sickness.</td>\n",
       "      <td>Les femmes enceintes ont souvent des nausées l...</td>\n",
       "      <td>CC-BY 2.0 (France) Attribution: tatoeba.org #8...</td>\n",
       "    </tr>\n",
       "    <tr>\n",
       "      <th>74556</th>\n",
       "      <td>Tom is fluent in French.</td>\n",
       "      <td>Tom parle le français couramment.</td>\n",
       "      <td>CC-BY 2.0 (France) Attribution: tatoeba.org #1...</td>\n",
       "    </tr>\n",
       "    <tr>\n",
       "      <th>155816</th>\n",
       "      <td>I don't like any of these pictures.</td>\n",
       "      <td>Je n'aime aucune de ces images.</td>\n",
       "      <td>CC-BY 2.0 (France) Attribution: tatoeba.org #4...</td>\n",
       "    </tr>\n",
       "    <tr>\n",
       "      <th>11595</th>\n",
       "      <td>I'm not bitter.</td>\n",
       "      <td>Je ne suis pas amère.</td>\n",
       "      <td>CC-BY 2.0 (France) Attribution: tatoeba.org #2...</td>\n",
       "    </tr>\n",
       "    <tr>\n",
       "      <th>187243</th>\n",
       "      <td>Nothing happens unless you make it happen.</td>\n",
       "      <td>Rien ne se passe à moins que vous ne fassiez e...</td>\n",
       "      <td>CC-BY 2.0 (France) Attribution: tatoeba.org #1...</td>\n",
       "    </tr>\n",
       "  </tbody>\n",
       "</table>\n",
       "</div>"
      ],
      "text/plain": [
       "                                                      eng  \\\n",
       "202025  Pregnant women often experience morning sickness.   \n",
       "74556                            Tom is fluent in French.   \n",
       "155816                I don't like any of these pictures.   \n",
       "11595                                     I'm not bitter.   \n",
       "187243         Nothing happens unless you make it happen.   \n",
       "\n",
       "                                                      fra  \\\n",
       "202025  Les femmes enceintes ont souvent des nausées l...   \n",
       "74556                   Tom parle le français couramment.   \n",
       "155816                    Je n'aime aucune de ces images.   \n",
       "11595                               Je ne suis pas amère.   \n",
       "187243  Rien ne se passe à moins que vous ne fassiez e...   \n",
       "\n",
       "                                                       cc  \n",
       "202025  CC-BY 2.0 (France) Attribution: tatoeba.org #8...  \n",
       "74556   CC-BY 2.0 (France) Attribution: tatoeba.org #1...  \n",
       "155816  CC-BY 2.0 (France) Attribution: tatoeba.org #4...  \n",
       "11595   CC-BY 2.0 (France) Attribution: tatoeba.org #2...  \n",
       "187243  CC-BY 2.0 (France) Attribution: tatoeba.org #1...  "
      ]
     },
     "execution_count": 3,
     "metadata": {},
     "output_type": "execute_result"
    }
   ],
   "source": [
    "\n",
    "file_path = './data/seq2seq/fra.txt'\n",
    "lines = pd.read_csv(file_path, names=['eng', 'fra', 'cc'], sep='\\t')\n",
    "print('전체 샘플의 수 :',len(lines))\n",
    "lines.sample(5) #샘플 5개 출력"
   ]
  },
  {
   "cell_type": "code",
   "execution_count": 4,
   "metadata": {},
   "outputs": [
    {
     "data": {
      "text/html": [
       "<div>\n",
       "<style scoped>\n",
       "    .dataframe tbody tr th:only-of-type {\n",
       "        vertical-align: middle;\n",
       "    }\n",
       "\n",
       "    .dataframe tbody tr th {\n",
       "        vertical-align: top;\n",
       "    }\n",
       "\n",
       "    .dataframe thead th {\n",
       "        text-align: right;\n",
       "    }\n",
       "</style>\n",
       "<table border=\"1\" class=\"dataframe\">\n",
       "  <thead>\n",
       "    <tr style=\"text-align: right;\">\n",
       "      <th></th>\n",
       "      <th>eng</th>\n",
       "      <th>fra</th>\n",
       "    </tr>\n",
       "  </thead>\n",
       "  <tbody>\n",
       "    <tr>\n",
       "      <th>20460</th>\n",
       "      <td>I suffered a lot.</td>\n",
       "      <td>J'ai beaucoup souffert.</td>\n",
       "    </tr>\n",
       "    <tr>\n",
       "      <th>22260</th>\n",
       "      <td>They fell silent.</td>\n",
       "      <td>Elles se sont tues.</td>\n",
       "    </tr>\n",
       "    <tr>\n",
       "      <th>9636</th>\n",
       "      <td>We're careful.</td>\n",
       "      <td>Nous sommes prudents.</td>\n",
       "    </tr>\n",
       "    <tr>\n",
       "      <th>13872</th>\n",
       "      <td>Are you envious?</td>\n",
       "      <td>Êtes-vous jaloux ?</td>\n",
       "    </tr>\n",
       "    <tr>\n",
       "      <th>9980</th>\n",
       "      <td>You're grumpy.</td>\n",
       "      <td>Tu es bougonne.</td>\n",
       "    </tr>\n",
       "  </tbody>\n",
       "</table>\n",
       "</div>"
      ],
      "text/plain": [
       "                     eng                      fra\n",
       "20460  I suffered a lot.  J'ai beaucoup souffert.\n",
       "22260  They fell silent.      Elles se sont tues.\n",
       "9636      We're careful.    Nous sommes prudents.\n",
       "13872   Are you envious?       Êtes-vous jaloux ?\n",
       "9980      You're grumpy.          Tu es bougonne."
      ]
     },
     "execution_count": 4,
     "metadata": {},
     "output_type": "execute_result"
    }
   ],
   "source": [
    "lines = lines[['eng', 'fra']][:33000] # 33000만개 샘플 사용\n",
    "lines.sample(5)"
   ]
  },
  {
   "attachments": {},
   "cell_type": "markdown",
   "metadata": {},
   "source": [
    "## Step 1. 정제, 정규화, 전처리(영어, 프랑스어 모두)"
   ]
  },
  {
   "attachments": {},
   "cell_type": "markdown",
   "metadata": {},
   "source": [
    "1. 구두점(Punctuation)을 단어와 분리해주세요.\n",
    "2. 소문자로 바꿔주세요.\n",
    "3. 띄어쓰기 단위로 토큰화를 수행하세요."
   ]
  },
  {
   "cell_type": "markdown",
   "metadata": {},
   "source": [
    "## 1-1 구두점(Punctuation)을 단어와 분리해주세요."
   ]
  },
  {
   "cell_type": "code",
   "execution_count": 5,
   "metadata": {},
   "outputs": [],
   "source": [
    "lines.eng = lines.eng.apply(lambda x:re.sub(r\"([?.!,¿])\", r\" \\1\", x) )\n",
    "lines.fra = lines.fra.apply(lambda x:re.sub(r\"([?.!,¿])\", r\" \\1\", x) )"
   ]
  },
  {
   "cell_type": "code",
   "execution_count": 6,
   "metadata": {},
   "outputs": [
    {
     "data": {
      "text/plain": [
       "0    Go .\n",
       "1    Go .\n",
       "2    Go .\n",
       "Name: eng, dtype: object"
      ]
     },
     "execution_count": 6,
     "metadata": {},
     "output_type": "execute_result"
    }
   ],
   "source": [
    "lines.eng.head(3)"
   ]
  },
  {
   "attachments": {},
   "cell_type": "markdown",
   "metadata": {},
   "source": [
    "## 1-2 소문자로 바꿔주세요."
   ]
  },
  {
   "cell_type": "code",
   "execution_count": 7,
   "metadata": {},
   "outputs": [],
   "source": [
    "lines.eng = lines.eng.apply(lambda x: x.lower()) \n",
    "lines.fra = lines.fra.apply(lambda x: x.lower()) "
   ]
  },
  {
   "cell_type": "code",
   "execution_count": 8,
   "metadata": {},
   "outputs": [
    {
     "data": {
      "text/plain": [
       "32105    i can see that now .\n",
       "Name: eng, dtype: object"
      ]
     },
     "execution_count": 8,
     "metadata": {},
     "output_type": "execute_result"
    }
   ],
   "source": [
    "lines.eng[32105:32106]"
   ]
  },
  {
   "attachments": {},
   "cell_type": "markdown",
   "metadata": {},
   "source": [
    "## 1-3 띄어쓰기 단위로 토큰화를 수행하세요."
   ]
  },
  {
   "cell_type": "code",
   "execution_count": 9,
   "metadata": {},
   "outputs": [],
   "source": [
    "lines.eng =lines.eng.apply(lambda x: x.split())\n",
    "lines.fra =lines.fra.apply(lambda x: x.split())"
   ]
  },
  {
   "cell_type": "code",
   "execution_count": 10,
   "metadata": {},
   "outputs": [
    {
     "data": {
      "text/plain": [
       "0    [go, .]\n",
       "1    [go, .]\n",
       "2    [go, .]\n",
       "Name: eng, dtype: object"
      ]
     },
     "execution_count": 10,
     "metadata": {},
     "output_type": "execute_result"
    }
   ],
   "source": [
    "lines.eng[:3]"
   ]
  },
  {
   "attachments": {},
   "cell_type": "markdown",
   "metadata": {},
   "source": [
    "## Step 2. 디코더의 문장에 시작 토큰과 종료 토큰을 넣어주세요."
   ]
  },
  {
   "cell_type": "code",
   "execution_count": 11,
   "metadata": {},
   "outputs": [],
   "source": [
    "input_seq = lines.fra.copy()\n",
    "input_seq = input_seq.apply(lambda x :  ['<sos>'] + x)"
   ]
  },
  {
   "cell_type": "code",
   "execution_count": 12,
   "metadata": {},
   "outputs": [
    {
     "data": {
      "text/plain": [
       "0           [<sos>, va, !]\n",
       "1       [<sos>, marche, .]\n",
       "2    [<sos>, en, route, !]\n",
       "3        [<sos>, bouge, !]\n",
       "4        [<sos>, salut, !]\n",
       "Name: fra, dtype: object"
      ]
     },
     "execution_count": 12,
     "metadata": {},
     "output_type": "execute_result"
    }
   ],
   "source": [
    "input_seq.head(5)"
   ]
  },
  {
   "cell_type": "code",
   "execution_count": 13,
   "metadata": {},
   "outputs": [],
   "source": [
    "label_seq = lines.fra.copy()\n",
    "label_seq= label_seq.apply(lambda x : x + ['<eos>'])"
   ]
  },
  {
   "cell_type": "code",
   "execution_count": 14,
   "metadata": {},
   "outputs": [
    {
     "data": {
      "text/plain": [
       "0           [va, !, <eos>]\n",
       "1       [marche, ., <eos>]\n",
       "2    [en, route, !, <eos>]\n",
       "3        [bouge, !, <eos>]\n",
       "4        [salut, !, <eos>]\n",
       "Name: fra, dtype: object"
      ]
     },
     "execution_count": 14,
     "metadata": {},
     "output_type": "execute_result"
    }
   ],
   "source": [
    "label_seq.head(5)"
   ]
  },
  {
   "attachments": {},
   "cell_type": "markdown",
   "metadata": {},
   "source": [
    "## Step 3. 케라스의 토크나이저로 텍스트를 숫자로 바꿔보세요."
   ]
  },
  {
   "cell_type": "code",
   "execution_count": 15,
   "metadata": {},
   "outputs": [
    {
     "data": {
      "text/plain": [
       "0    [go, .]\n",
       "1    [go, .]\n",
       "2    [go, .]\n",
       "Name: eng, dtype: object"
      ]
     },
     "execution_count": 15,
     "metadata": {},
     "output_type": "execute_result"
    }
   ],
   "source": [
    "lines.eng.head(3)"
   ]
  },
  {
   "cell_type": "code",
   "execution_count": 16,
   "metadata": {},
   "outputs": [
    {
     "data": {
      "text/plain": [
       "[[24, 1], [24, 1], [24, 1]]"
      ]
     },
     "execution_count": 16,
     "metadata": {},
     "output_type": "execute_result"
    }
   ],
   "source": [
    "eng_tokenizer = Tokenizer(filters=\"\", lower=False)   #단어 토크나이저\n",
    "eng_tokenizer.fit_on_texts(lines.eng)               \n",
    "input_text = eng_tokenizer.texts_to_sequences(lines.eng)  \n",
    "input_text[:3]"
   ]
  },
  {
   "cell_type": "code",
   "execution_count": 17,
   "metadata": {},
   "outputs": [
    {
     "data": {
      "text/plain": [
       "0           [<sos>, va, !]\n",
       "1       [<sos>, marche, .]\n",
       "2    [<sos>, en, route, !]\n",
       "Name: fra, dtype: object"
      ]
     },
     "execution_count": 17,
     "metadata": {},
     "output_type": "execute_result"
    }
   ],
   "source": [
    "input_seq[:3]"
   ]
  },
  {
   "cell_type": "code",
   "execution_count": 18,
   "metadata": {},
   "outputs": [
    {
     "data": {
      "text/plain": [
       "[[2, 61, 7], [2, 320, 1], [2, 26, 521, 7]]"
      ]
     },
     "execution_count": 18,
     "metadata": {},
     "output_type": "execute_result"
    }
   ],
   "source": [
    "# 단어 토크나이저\n",
    "fra_tokenizer = Tokenizer(filters=\"\", lower=False)   \n",
    "fra_tokenizer.fit_on_texts(input_seq)                 \n",
    "fra_tokenizer.fit_on_texts(label_seq) \n",
    "input_seq_token = fra_tokenizer.texts_to_sequences(input_seq)    \n",
    "label_seq_token = fra_tokenizer.texts_to_sequences(label_seq)\n",
    "input_seq_token[:3]"
   ]
  },
  {
   "cell_type": "code",
   "execution_count": 19,
   "metadata": {},
   "outputs": [
    {
     "data": {
      "text/plain": [
       "0           [va, !, <eos>]\n",
       "1       [marche, ., <eos>]\n",
       "2    [en, route, !, <eos>]\n",
       "Name: fra, dtype: object"
      ]
     },
     "execution_count": 19,
     "metadata": {},
     "output_type": "execute_result"
    }
   ],
   "source": [
    "label_seq[:3]"
   ]
  },
  {
   "cell_type": "code",
   "execution_count": 20,
   "metadata": {},
   "outputs": [],
   "source": [
    "eng_vocab_size = len(eng_tokenizer.word_index) + 1\n",
    "fra_vocab_size = len(fra_tokenizer.word_index) + 1\n",
    "max_eng_seq_len = max([len(line) for line in input_text])\n",
    "max_fra_seq_len = max([len(line) for line in input_seq_token])"
   ]
  },
  {
   "cell_type": "code",
   "execution_count": 21,
   "metadata": {},
   "outputs": [
    {
     "name": "stdout",
     "output_type": "stream",
     "text": [
      "전체 샘플의 수 : 33000\n",
      "영어 단어장의 크기 : 4648\n",
      "프랑스어 단어장의 크기 : 9720\n",
      "영어 시퀀스의 최대 길이 7\n",
      "프랑스어 시퀀스의 최대 길이 14\n"
     ]
    }
   ],
   "source": [
    "print('전체 샘플의 수 :',len(lines))\n",
    "print('영어 단어장의 크기 :', eng_vocab_size)\n",
    "print('프랑스어 단어장의 크기 :', fra_vocab_size)\n",
    "print('영어 시퀀스의 최대 길이', max_eng_seq_len)\n",
    "print('프랑스어 시퀀스의 최대 길이', max_fra_seq_len)"
   ]
  },
  {
   "cell_type": "code",
   "execution_count": 22,
   "metadata": {},
   "outputs": [],
   "source": [
    "src_to_index = eng_tokenizer.word_index\n",
    "index_to_src = eng_tokenizer.index_word\n",
    "tar_to_index = fra_tokenizer.word_index\n",
    "index_to_tar = fra_tokenizer.index_word"
   ]
  },
  {
   "cell_type": "code",
   "execution_count": 23,
   "metadata": {},
   "outputs": [
    {
     "name": "stdout",
     "output_type": "stream",
     "text": [
      "영어 데이터의 크기(shape) : (33000, 7)\n",
      "프랑스어 입력데이터의 크기(shape) : (33000, 14)\n",
      "프랑스어 출력데이터의 크기(shape) : (33000, 14)\n"
     ]
    }
   ],
   "source": [
    "encoder_input = input_text\n",
    "decoder_input = input_seq_token\n",
    "decoder_target= label_seq_token\n",
    "\n",
    "encoder_input = pad_sequences(encoder_input, maxlen = max_eng_seq_len, padding='post')\n",
    "decoder_input = pad_sequences(decoder_input, maxlen = max_fra_seq_len, padding='post')\n",
    "decoder_target = pad_sequences(decoder_target, maxlen = max_fra_seq_len, padding='post')\n",
    "print('영어 데이터의 크기(shape) :',np.shape(encoder_input))\n",
    "print('프랑스어 입력데이터의 크기(shape) :',np.shape(decoder_input))\n",
    "print('프랑스어 출력데이터의 크기(shape) :',np.shape(decoder_target))"
   ]
  },
  {
   "cell_type": "code",
   "execution_count": 24,
   "metadata": {},
   "outputs": [
    {
     "name": "stdout",
     "output_type": "stream",
     "text": [
      "[24  1  0  0  0  0  0]\n"
     ]
    }
   ],
   "source": [
    "print(encoder_input[0])"
   ]
  },
  {
   "cell_type": "code",
   "execution_count": 25,
   "metadata": {},
   "outputs": [
    {
     "data": {
      "text/plain": [
       "array([[ 61,   7,   3,   0,   0,   0,   0,   0,   0,   0,   0,   0,   0,\n",
       "          0],\n",
       "       [320,   1,   3,   0,   0,   0,   0,   0,   0,   0,   0,   0,   0,\n",
       "          0],\n",
       "       [ 26, 521,   7,   3,   0,   0,   0,   0,   0,   0,   0,   0,   0,\n",
       "          0],\n",
       "       [703,   7,   3,   0,   0,   0,   0,   0,   0,   0,   0,   0,   0,\n",
       "          0],\n",
       "       [676,   7,   3,   0,   0,   0,   0,   0,   0,   0,   0,   0,   0,\n",
       "          0]])"
      ]
     },
     "execution_count": 25,
     "metadata": {},
     "output_type": "execute_result"
    }
   ],
   "source": [
    "decoder_target[:5]"
   ]
  },
  {
   "cell_type": "code",
   "execution_count": 26,
   "metadata": {},
   "outputs": [
    {
     "name": "stdout",
     "output_type": "stream",
     "text": [
      "검증 데이터의 개수 : 3300\n"
     ]
    }
   ],
   "source": [
    "n_of_val = int(33000*0.1)\n",
    "print('검증 데이터의 개수 :',n_of_val)"
   ]
  },
  {
   "cell_type": "code",
   "execution_count": 27,
   "metadata": {},
   "outputs": [],
   "source": [
    "encoder_input_train = encoder_input[:-n_of_val]\n",
    "decoder_input_train = decoder_input[:-n_of_val]\n",
    "decoder_target_train = decoder_target[:-n_of_val]\n",
    "\n",
    "encoder_input_test = encoder_input[-n_of_val:]\n",
    "decoder_input_test = decoder_input[-n_of_val:]\n",
    "decoder_target_test = decoder_target[-n_of_val:]"
   ]
  },
  {
   "attachments": {},
   "cell_type": "markdown",
   "metadata": {},
   "source": [
    "## Step 4. 임베딩 층(Embedding layer) 사용하기"
   ]
  },
  {
   "cell_type": "code",
   "execution_count": 28,
   "metadata": {},
   "outputs": [],
   "source": [
    "from tensorflow.keras.layers import Input, LSTM, Embedding, Dense, Masking\n",
    "from tensorflow.keras.models import Model"
   ]
  },
  {
   "cell_type": "code",
   "execution_count": 29,
   "metadata": {},
   "outputs": [],
   "source": [
    "src_vocab_size = len(eng_tokenizer.word_index) + 1\n",
    "tar_vocab_size = len(fra_tokenizer.word_index) + 1\n",
    "embedding_dim = 128\n",
    "hidden_units = 128\n"
   ]
  },
  {
   "cell_type": "code",
   "execution_count": 30,
   "metadata": {},
   "outputs": [],
   "source": [
    "# 인코더\n",
    "encoder_inputs = Input(shape=(None,))\n",
    "enc_emb = Embedding(src_vocab_size, embedding_dim)(encoder_inputs) # 임베딩 층\n",
    "encoder_lstm = LSTM(hidden_units, return_state=True) \n",
    "encoder_outputs, state_h, state_c = encoder_lstm(enc_emb) \n",
    "encoder_states = [state_h, state_c] "
   ]
  },
  {
   "cell_type": "code",
   "execution_count": 31,
   "metadata": {},
   "outputs": [],
   "source": [
    "# 디코더\n",
    "from keras.layers import Dropout\n",
    "\n",
    "decoder_inputs = Input(shape=(None,))\n",
    "dec_emb_layer = Embedding(tar_vocab_size, hidden_units) # 임베딩 층\n",
    "dec_emb = dec_emb_layer(decoder_inputs) \n",
    "\n",
    "decoder_lstm = LSTM(hidden_units, return_sequences=True, return_state=True) \n",
    "\n",
    "decoder_outputs, _, _ = decoder_lstm(dec_emb, initial_state=encoder_states)\n",
    "decoder_outputs = Dropout(0.3)(decoder_outputs) \n",
    "decoder_dense = Dense(tar_vocab_size, activation='softmax')\n",
    "decoder_outputs = decoder_dense(decoder_outputs)\n",
    "\n",
    "model = Model([encoder_inputs, decoder_inputs], decoder_outputs)\n",
    "\n",
    "model.compile(optimizer='adam', loss='sparse_categorical_crossentropy', metrics=['accuracy'])"
   ]
  },
  {
   "cell_type": "code",
   "execution_count": 32,
   "metadata": {},
   "outputs": [
    {
     "name": "stdout",
     "output_type": "stream",
     "text": [
      "Model: \"model\"\n",
      "__________________________________________________________________________________________________\n",
      " Layer (type)                   Output Shape         Param #     Connected to                     \n",
      "==================================================================================================\n",
      " input_1 (InputLayer)           [(None, None)]       0           []                               \n",
      "                                                                                                  \n",
      " input_2 (InputLayer)           [(None, None)]       0           []                               \n",
      "                                                                                                  \n",
      " embedding (Embedding)          (None, None, 128)    594944      ['input_1[0][0]']                \n",
      "                                                                                                  \n",
      " embedding_1 (Embedding)        (None, None, 128)    1244160     ['input_2[0][0]']                \n",
      "                                                                                                  \n",
      " lstm (LSTM)                    [(None, 128),        131584      ['embedding[0][0]']              \n",
      "                                 (None, 128),                                                     \n",
      "                                 (None, 128)]                                                     \n",
      "                                                                                                  \n",
      " lstm_1 (LSTM)                  [(None, None, 128),  131584      ['embedding_1[0][0]',            \n",
      "                                 (None, 128),                     'lstm[0][1]',                   \n",
      "                                 (None, 128)]                     'lstm[0][2]']                   \n",
      "                                                                                                  \n",
      " dropout (Dropout)              (None, None, 128)    0           ['lstm_1[0][0]']                 \n",
      "                                                                                                  \n",
      " dense (Dense)                  (None, None, 9720)   1253880     ['dropout[0][0]']                \n",
      "                                                                                                  \n",
      "==================================================================================================\n",
      "Total params: 3,356,152\n",
      "Trainable params: 3,356,152\n",
      "Non-trainable params: 0\n",
      "__________________________________________________________________________________________________\n"
     ]
    }
   ],
   "source": [
    "model.summary()"
   ]
  },
  {
   "cell_type": "code",
   "execution_count": 41,
   "metadata": {},
   "outputs": [
    {
     "name": "stdout",
     "output_type": "stream",
     "text": [
      "Epoch 1/50\n",
      "233/233 [==============================] - 9s 33ms/step - loss: 0.2604 - accuracy: 0.9267 - val_loss: 1.2165 - val_accuracy: 0.8223\n",
      "Epoch 2/50\n",
      "233/233 [==============================] - 8s 34ms/step - loss: 0.2542 - accuracy: 0.9280 - val_loss: 1.2137 - val_accuracy: 0.8217\n",
      "Epoch 3/50\n",
      "233/233 [==============================] - 7s 32ms/step - loss: 0.2489 - accuracy: 0.9289 - val_loss: 1.2138 - val_accuracy: 0.8232\n",
      "Epoch 4/50\n",
      "233/233 [==============================] - 8s 33ms/step - loss: 0.2445 - accuracy: 0.9296 - val_loss: 1.2181 - val_accuracy: 0.8235\n",
      "Epoch 5/50\n",
      "233/233 [==============================] - 8s 33ms/step - loss: 0.2388 - accuracy: 0.9309 - val_loss: 1.2253 - val_accuracy: 0.8239\n",
      "Epoch 6/50\n",
      "233/233 [==============================] - 10s 42ms/step - loss: 0.2347 - accuracy: 0.9320 - val_loss: 1.2214 - val_accuracy: 0.8245\n",
      "Epoch 7/50\n",
      "233/233 [==============================] - 8s 34ms/step - loss: 0.2310 - accuracy: 0.9322 - val_loss: 1.2262 - val_accuracy: 0.8245\n",
      "Epoch 8/50\n",
      "233/233 [==============================] - 8s 33ms/step - loss: 0.2268 - accuracy: 0.9332 - val_loss: 1.2293 - val_accuracy: 0.8235\n",
      "Epoch 9/50\n",
      "233/233 [==============================] - 8s 34ms/step - loss: 0.2222 - accuracy: 0.9337 - val_loss: 1.2304 - val_accuracy: 0.8244\n",
      "Epoch 10/50\n",
      "233/233 [==============================] - 8s 34ms/step - loss: 0.2191 - accuracy: 0.9345 - val_loss: 1.2336 - val_accuracy: 0.8243\n",
      "Epoch 11/50\n",
      "233/233 [==============================] - 8s 34ms/step - loss: 0.2147 - accuracy: 0.9354 - val_loss: 1.2361 - val_accuracy: 0.8239\n",
      "Epoch 12/50\n",
      "233/233 [==============================] - 8s 33ms/step - loss: 0.2127 - accuracy: 0.9356 - val_loss: 1.2411 - val_accuracy: 0.8247\n",
      "Epoch 13/50\n",
      "233/233 [==============================] - 8s 34ms/step - loss: 0.2087 - accuracy: 0.9363 - val_loss: 1.2395 - val_accuracy: 0.8235\n",
      "Epoch 14/50\n",
      "233/233 [==============================] - 8s 34ms/step - loss: 0.2055 - accuracy: 0.9371 - val_loss: 1.2450 - val_accuracy: 0.8247\n",
      "Epoch 15/50\n",
      "233/233 [==============================] - 8s 35ms/step - loss: 0.2038 - accuracy: 0.9374 - val_loss: 1.2436 - val_accuracy: 0.8246\n",
      "Epoch 16/50\n",
      "233/233 [==============================] - 9s 38ms/step - loss: 0.2001 - accuracy: 0.9385 - val_loss: 1.2452 - val_accuracy: 0.8256\n",
      "Epoch 17/50\n",
      "233/233 [==============================] - 8s 33ms/step - loss: 0.1970 - accuracy: 0.9387 - val_loss: 1.2511 - val_accuracy: 0.8249\n",
      "Epoch 18/50\n",
      "233/233 [==============================] - 8s 33ms/step - loss: 0.1947 - accuracy: 0.9393 - val_loss: 1.2531 - val_accuracy: 0.8257\n",
      "Epoch 19/50\n",
      "233/233 [==============================] - 8s 35ms/step - loss: 0.1922 - accuracy: 0.9396 - val_loss: 1.2578 - val_accuracy: 0.8250\n",
      "Epoch 20/50\n",
      "233/233 [==============================] - 8s 32ms/step - loss: 0.1904 - accuracy: 0.9399 - val_loss: 1.2590 - val_accuracy: 0.8258\n",
      "Epoch 21/50\n",
      "233/233 [==============================] - 7s 32ms/step - loss: 0.1886 - accuracy: 0.9403 - val_loss: 1.2548 - val_accuracy: 0.8264\n",
      "Epoch 22/50\n",
      "233/233 [==============================] - 8s 32ms/step - loss: 0.1862 - accuracy: 0.9407 - val_loss: 1.2698 - val_accuracy: 0.8256\n",
      "Epoch 23/50\n",
      "233/233 [==============================] - 8s 32ms/step - loss: 0.1832 - accuracy: 0.9417 - val_loss: 1.2682 - val_accuracy: 0.8256\n",
      "Epoch 24/50\n",
      "233/233 [==============================] - 8s 33ms/step - loss: 0.1820 - accuracy: 0.9417 - val_loss: 1.2656 - val_accuracy: 0.8252\n",
      "Epoch 25/50\n",
      "233/233 [==============================] - 7s 32ms/step - loss: 0.1799 - accuracy: 0.9423 - val_loss: 1.2756 - val_accuracy: 0.8254\n",
      "Epoch 26/50\n",
      "233/233 [==============================] - 8s 33ms/step - loss: 0.1774 - accuracy: 0.9428 - val_loss: 1.2716 - val_accuracy: 0.8263\n",
      "Epoch 27/50\n",
      "233/233 [==============================] - 8s 32ms/step - loss: 0.1749 - accuracy: 0.9433 - val_loss: 1.2760 - val_accuracy: 0.8261\n",
      "Epoch 28/50\n",
      "233/233 [==============================] - 8s 33ms/step - loss: 0.1735 - accuracy: 0.9436 - val_loss: 1.2808 - val_accuracy: 0.8267\n",
      "Epoch 29/50\n",
      "233/233 [==============================] - 8s 33ms/step - loss: 0.1717 - accuracy: 0.9438 - val_loss: 1.2829 - val_accuracy: 0.8261\n",
      "Epoch 30/50\n",
      "233/233 [==============================] - 8s 33ms/step - loss: 0.1692 - accuracy: 0.9444 - val_loss: 1.2880 - val_accuracy: 0.8261\n",
      "Epoch 31/50\n",
      "233/233 [==============================] - 9s 39ms/step - loss: 0.1693 - accuracy: 0.9442 - val_loss: 1.2855 - val_accuracy: 0.8264\n",
      "Epoch 32/50\n",
      "233/233 [==============================] - 8s 34ms/step - loss: 0.1678 - accuracy: 0.9446 - val_loss: 1.2862 - val_accuracy: 0.8261\n",
      "Epoch 33/50\n",
      "233/233 [==============================] - 8s 36ms/step - loss: 0.1647 - accuracy: 0.9450 - val_loss: 1.2919 - val_accuracy: 0.8263\n",
      "Epoch 34/50\n",
      "233/233 [==============================] - 8s 34ms/step - loss: 0.1622 - accuracy: 0.9456 - val_loss: 1.3001 - val_accuracy: 0.8266\n",
      "Epoch 35/50\n",
      "233/233 [==============================] - 8s 34ms/step - loss: 0.1615 - accuracy: 0.9460 - val_loss: 1.2990 - val_accuracy: 0.8273\n",
      "Epoch 36/50\n",
      "233/233 [==============================] - 8s 34ms/step - loss: 0.1607 - accuracy: 0.9460 - val_loss: 1.3015 - val_accuracy: 0.8263\n",
      "Epoch 37/50\n",
      "233/233 [==============================] - 8s 33ms/step - loss: 0.1598 - accuracy: 0.9461 - val_loss: 1.2993 - val_accuracy: 0.8263\n",
      "Epoch 38/50\n",
      "233/233 [==============================] - 8s 34ms/step - loss: 0.1588 - accuracy: 0.9462 - val_loss: 1.3055 - val_accuracy: 0.8270\n",
      "Epoch 39/50\n",
      "233/233 [==============================] - 8s 33ms/step - loss: 0.1559 - accuracy: 0.9472 - val_loss: 1.3031 - val_accuracy: 0.8268\n",
      "Epoch 40/50\n",
      "233/233 [==============================] - 8s 33ms/step - loss: 0.1553 - accuracy: 0.9470 - val_loss: 1.3037 - val_accuracy: 0.8261\n",
      "Epoch 41/50\n",
      "233/233 [==============================] - 8s 33ms/step - loss: 0.1537 - accuracy: 0.9475 - val_loss: 1.3097 - val_accuracy: 0.8280\n",
      "Epoch 42/50\n",
      "233/233 [==============================] - 8s 35ms/step - loss: 0.1532 - accuracy: 0.9477 - val_loss: 1.3201 - val_accuracy: 0.8268\n",
      "Epoch 43/50\n",
      "233/233 [==============================] - 8s 35ms/step - loss: 0.1523 - accuracy: 0.9478 - val_loss: 1.3164 - val_accuracy: 0.8283\n",
      "Epoch 44/50\n",
      "233/233 [==============================] - 8s 34ms/step - loss: 0.1500 - accuracy: 0.9487 - val_loss: 1.3260 - val_accuracy: 0.8277\n",
      "Epoch 45/50\n",
      "233/233 [==============================] - 8s 35ms/step - loss: 0.1524 - accuracy: 0.9476 - val_loss: 1.3226 - val_accuracy: 0.8275\n",
      "Epoch 46/50\n",
      "233/233 [==============================] - 8s 34ms/step - loss: 0.1487 - accuracy: 0.9488 - val_loss: 1.3223 - val_accuracy: 0.8271\n",
      "Epoch 47/50\n",
      "233/233 [==============================] - 8s 34ms/step - loss: 0.1468 - accuracy: 0.9491 - val_loss: 1.3230 - val_accuracy: 0.8276\n",
      "Epoch 48/50\n",
      "233/233 [==============================] - 8s 34ms/step - loss: 0.1471 - accuracy: 0.9489 - val_loss: 1.3265 - val_accuracy: 0.8273\n",
      "Epoch 49/50\n",
      "233/233 [==============================] - 8s 34ms/step - loss: 0.1463 - accuracy: 0.9489 - val_loss: 1.3258 - val_accuracy: 0.8280\n",
      "Epoch 50/50\n",
      "233/233 [==============================] - 8s 34ms/step - loss: 0.1436 - accuracy: 0.9498 - val_loss: 1.3290 - val_accuracy: 0.8269\n"
     ]
    }
   ],
   "source": [
    "history = model.fit(x=[encoder_input_train, decoder_input_train], y=decoder_target_train, \\\n",
    "          validation_data=([encoder_input_test, decoder_input_test], decoder_target_test),\n",
    "          batch_size=128, epochs=50)"
   ]
  },
  {
   "cell_type": "code",
   "execution_count": 34,
   "metadata": {},
   "outputs": [
    {
     "data": {
      "image/png": "[encoded data removed]",
      "text/plain": [
       "<Figure size 640x480 with 1 Axes>"
      ]
     },
     "metadata": {},
     "output_type": "display_data"
    }
   ],
   "source": [
    "import matplotlib.pyplot as plt\n",
    "\n",
    "val_loss = history.history['val_loss']\n",
    "\n",
    "epochs=range(1,51)\n",
    "plt.plot(epochs,val_loss,'b-',label ='Validation loss')\n",
    "\n",
    "plt.title('Validation loss')\n",
    "plt.xlabel('Epochs')\n",
    "plt.ylabel('Validation loss')\n",
    "plt.legend()\n",
    "plt.show()"
   ]
  },
  {
   "cell_type": "code",
   "execution_count": 35,
   "metadata": {},
   "outputs": [
    {
     "data": {
      "image/png": "[encoded data removed]",
      "text/plain": [
       "<Figure size 640x480 with 1 Axes>"
      ]
     },
     "metadata": {},
     "output_type": "display_data"
    }
   ],
   "source": [
    "import matplotlib.pyplot as plt\n",
    "\n",
    "val_loss = history.history['val_accuracy']\n",
    "\n",
    "epochs=range(1,51)\n",
    "plt.plot(epochs,val_loss,'b-',label ='Validation accuracy')\n",
    "\n",
    "plt.title('Validation accuracy')\n",
    "plt.xlabel('Epochs')\n",
    "plt.ylabel('Validation accuracy')\n",
    "plt.legend()\n",
    "plt.show()"
   ]
  },
  {
   "attachments": {},
   "cell_type": "markdown",
   "metadata": {},
   "source": [
    "## Step 5. 모델 구현하기"
   ]
  },
  {
   "cell_type": "code",
   "execution_count": 36,
   "metadata": {},
   "outputs": [],
   "source": [
    "# 인코더\n",
    "encoder_model = Model(encoder_inputs, encoder_states)\n",
    "\n",
    "# 디코더 설계 시작\n",
    "# 이전 시점의 상태를 보관할 텐서\n",
    "decoder_state_input_h = Input(shape=(hidden_units,))\n",
    "decoder_state_input_c = Input(shape=(hidden_units,))\n",
    "decoder_states_inputs = [decoder_state_input_h, decoder_state_input_c]\n",
    "\n",
    "# 다음 단어 예측을 위해 이전 시점의 상태를 현 시점의 초기 상태로 사용\n",
    "decoder_outputs2, state_h2, state_c2 = decoder_lstm(dec_emb_layer(decoder_inputs), initial_state=decoder_states_inputs)\n",
    "decoder_states2 = [state_h2, state_c2]\n",
    "\n",
    "decoder_outputs2 = decoder_dense(decoder_outputs2)\n",
    "\n",
    "# 수정된 디코더\n",
    "decoder_model = Model(\n",
    "    [decoder_inputs] + decoder_states_inputs,\n",
    "    [decoder_outputs2] + decoder_states2)"
   ]
  },
  {
   "cell_type": "code",
   "execution_count": 37,
   "metadata": {},
   "outputs": [],
   "source": [
    "def decode_sequence(input_seq):\n",
    "\n",
    "  states_value = encoder_model.predict(input_seq)\n",
    "\n",
    "  # <SOS>에 해당하는 정수 생성\n",
    "  target_seq = np.zeros((1,1))\n",
    "  target_seq[0, 0] = tar_to_index['<sos>']\n",
    "\n",
    "  stop_condition = False\n",
    "  decoded_sentence = ''\n",
    "\n",
    "  while not stop_condition:\n",
    "    # 이점 시점의 상태 states_value를 현 시점의 초기 상태로 사용\n",
    "    output_tokens, h, c = decoder_model.predict([target_seq] + states_value)\n",
    "    \n",
    "    # 예측 결과를 단어로 변환\n",
    "    sampled_token_index = np.argmax(output_tokens[0, -1, :])    \n",
    "    sampled_char = index_to_tar[sampled_token_index]\n",
    "\n",
    "    # 현재 시점의 예측 단어를 예측 문장에 추가\n",
    "    decoded_sentence += ' '+sampled_char\n",
    "    # <eos>에 도달하거나 정해진 길이를 넘으면 중단.\n",
    "    if (sampled_char == '<eos>' or len(decoded_sentence) > 50):\n",
    "        stop_condition = True\n",
    "\n",
    "    # 현재 시점의 예측 결과를 다음 시점의 입력으로 사용하기 위해 저장\n",
    "    target_seq = np.zeros((1,1))\n",
    "    target_seq[0, 0] = sampled_token_index\n",
    "\n",
    "    # 현재 시점의 상태를 다음 시점의 상태로 사용하기 위해 저장\n",
    "    states_value = [h, c]\n",
    "\n",
    "  return decoded_sentence"
   ]
  },
  {
   "cell_type": "code",
   "execution_count": 38,
   "metadata": {},
   "outputs": [],
   "source": [
    "# 원문의 정수 시퀀스를 텍스트 시퀀스로 변환\n",
    "def seq_to_src(input_seq):\n",
    "  sentence = ''\n",
    "  for encoded_word in input_seq:\n",
    "    if(encoded_word != 0):\n",
    "      sentence = sentence + index_to_src[encoded_word] + ' '\n",
    "  return sentence\n",
    "\n",
    "# 번역문의 정수 시퀀스를 텍스트 시퀀스로 변환\n",
    "def seq_to_tar(input_seq):\n",
    "  sentence = ''\n",
    "  for encoded_word in input_seq:\n",
    "    if(encoded_word != 0 and encoded_word != tar_to_index['<sos>'] and encoded_word != tar_to_index['<eos>']):\n",
    "      sentence = sentence + index_to_tar[encoded_word] + ' '\n",
    "  return sentence"
   ]
  },
  {
   "cell_type": "code",
   "execution_count": 39,
   "metadata": {},
   "outputs": [
    {
     "name": "stdout",
     "output_type": "stream",
     "text": [
      "1/1 [==============================] - 0s 295ms/step\n",
      "1/1 [==============================] - 0s 268ms/step\n",
      "1/1 [==============================] - 0s 15ms/step\n",
      "1/1 [==============================] - 0s 20ms/step\n",
      "1/1 [==============================] - 0s 15ms/step\n",
      "입력문장 : are you mad ? \n",
      "정답문장 : êtes-vous dingues ? \n",
      "번역문장 : êtes-vous fou ? \n",
      "--------------------------------------------------\n",
      "1/1 [==============================] - 0s 12ms/step\n",
      "1/1 [==============================] - 0s 15ms/step\n",
      "1/1 [==============================] - 0s 15ms/step\n",
      "1/1 [==============================] - 0s 17ms/step\n",
      "1/1 [==============================] - 0s 17ms/step\n",
      "1/1 [==============================] - 0s 18ms/step\n",
      "1/1 [==============================] - 0s 16ms/step\n",
      "입력문장 : he became furious . \n",
      "정답문장 : il est devenu furieux . \n",
      "번역문장 : il est devenu furieux . \n",
      "--------------------------------------------------\n",
      "1/1 [==============================] - 0s 14ms/step\n",
      "1/1 [==============================] - 0s 20ms/step\n",
      "1/1 [==============================] - 0s 18ms/step\n",
      "1/1 [==============================] - 0s 17ms/step\n",
      "1/1 [==============================] - 0s 18ms/step\n",
      "입력문장 : be nice . \n",
      "정답문장 : sois gentil ! \n",
      "번역문장 : soyez gentille ! \n",
      "--------------------------------------------------\n",
      "1/1 [==============================] - 0s 14ms/step\n",
      "1/1 [==============================] - 0s 21ms/step\n",
      "1/1 [==============================] - 0s 16ms/step\n",
      "1/1 [==============================] - 0s 18ms/step\n",
      "1/1 [==============================] - 0s 16ms/step\n",
      "1/1 [==============================] - 0s 18ms/step\n",
      "1/1 [==============================] - 0s 21ms/step\n",
      "입력문장 : i trusted you . \n",
      "정답문장 : je vous faisais confiance . \n",
      "번역문장 : je vous faisais confiance . \n",
      "--------------------------------------------------\n",
      "1/1 [==============================] - 0s 13ms/step\n",
      "1/1 [==============================] - 0s 16ms/step\n",
      "1/1 [==============================] - 0s 15ms/step\n",
      "1/1 [==============================] - 0s 16ms/step\n",
      "1/1 [==============================] - 0s 16ms/step\n",
      "입력문장 : are you bald ? \n",
      "정답문장 : êtes-vous chauve ? \n",
      "번역문장 : êtes-vous chauve ? \n",
      "--------------------------------------------------\n",
      "1/1 [==============================] - 0s 13ms/step\n",
      "1/1 [==============================] - 0s 29ms/step\n",
      "1/1 [==============================] - 0s 15ms/step\n",
      "1/1 [==============================] - 0s 16ms/step\n",
      "1/1 [==============================] - 0s 17ms/step\n",
      "1/1 [==============================] - 0s 16ms/step\n",
      "입력문장 : she's open-minded . \n",
      "정답문장 : elle a l'esprit ouvert . \n",
      "번역문장 : elle est brésilienne . \n",
      "--------------------------------------------------\n",
      "1/1 [==============================] - 0s 15ms/step\n",
      "1/1 [==============================] - 0s 18ms/step\n",
      "1/1 [==============================] - 0s 20ms/step\n",
      "1/1 [==============================] - 0s 16ms/step\n",
      "1/1 [==============================] - 0s 16ms/step\n",
      "1/1 [==============================] - 0s 17ms/step\n",
      "1/1 [==============================] - 0s 16ms/step\n",
      "1/1 [==============================] - 0s 17ms/step\n",
      "1/1 [==============================] - 0s 15ms/step\n",
      "1/1 [==============================] - 0s 19ms/step\n",
      "1/1 [==============================] - 0s 16ms/step\n",
      "입력문장 : we overslept . \n",
      "정답문장 : nous n'entendîmes pas le réveil . \n",
      "번역문장 : nous n'avons pas de souci à la tristesse . \n",
      "--------------------------------------------------\n",
      "1/1 [==============================] - 0s 14ms/step\n",
      "1/1 [==============================] - 0s 16ms/step\n",
      "1/1 [==============================] - 0s 16ms/step\n",
      "1/1 [==============================] - 0s 16ms/step\n",
      "1/1 [==============================] - 0s 15ms/step\n",
      "1/1 [==============================] - 0s 17ms/step\n",
      "1/1 [==============================] - 0s 16ms/step\n",
      "입력문장 : you're morons . \n",
      "정답문장 : vous êtes des idiots . \n",
      "번역문장 : vous êtes des crétins . \n",
      "--------------------------------------------------\n"
     ]
    }
   ],
   "source": [
    "for seq_index in [2789, 25111, 176, 7895,4567, 27895, 6547,10000]: \n",
    "  #print('seq_index',seq_index)\n",
    "  input_seq = encoder_input_train[seq_index: seq_index + 1]\n",
    "  #print('input_seq',input_seq)\n",
    "  decoded_sentence = decode_sequence(input_seq)\n",
    "  \n",
    "  print(\"입력문장 :\",seq_to_src(encoder_input_train[seq_index]))\n",
    "  print(\"정답문장 :\",seq_to_tar(decoder_input_train[seq_index]))\n",
    "  print(\"번역문장 :\",decoded_sentence[1:-5])\n",
    "  print(\"-\"*50)"
   ]
  },
  {
   "attachments": {},
   "cell_type": "markdown",
   "metadata": {},
   "source": [
    "## Step 6. 모델 평가하기"
   ]
  },
  {
   "cell_type": "code",
   "execution_count": 42,
   "metadata": {},
   "outputs": [
    {
     "name": "stdout",
     "output_type": "stream",
     "text": [
      "1/1 [==============================] - 0s 15ms/step\n",
      "1/1 [==============================] - 0s 21ms/step\n",
      "1/1 [==============================] - 0s 17ms/step\n",
      "1/1 [==============================] - 0s 16ms/step\n",
      "1/1 [==============================] - 0s 17ms/step\n",
      "1/1 [==============================] - 0s 16ms/step\n",
      "입력문장 : what a lovely day ! \n",
      "정답문장 : quelle journée délicieuse . \n",
      "번역문장 : quelle journée pourrie ! \n",
      "--------------------------------------------------\n",
      "1/1 [==============================] - 0s 18ms/step\n",
      "1/1 [==============================] - 0s 17ms/step\n",
      "1/1 [==============================] - 0s 15ms/step\n",
      "1/1 [==============================] - 0s 16ms/step\n",
      "1/1 [==============================] - 0s 16ms/step\n",
      "1/1 [==============================] - 0s 20ms/step\n",
      "1/1 [==============================] - 0s 22ms/step\n",
      "입력문장 : what have you got ? \n",
      "정답문장 : qu'est-ce que vous avez ? \n",
      "번역문장 : qu'est-ce qui vous a ? \n",
      "--------------------------------------------------\n",
      "1/1 [==============================] - 0s 17ms/step\n",
      "1/1 [==============================] - 0s 15ms/step\n",
      "1/1 [==============================] - 0s 15ms/step\n",
      "1/1 [==============================] - 0s 27ms/step\n",
      "1/1 [==============================] - 0s 16ms/step\n",
      "1/1 [==============================] - 0s 16ms/step\n",
      "1/1 [==============================] - 0s 16ms/step\n",
      "1/1 [==============================] - 0s 15ms/step\n",
      "1/1 [==============================] - 0s 16ms/step\n",
      "1/1 [==============================] - 0s 17ms/step\n",
      "1/1 [==============================] - 0s 21ms/step\n",
      "입력문장 : which tooth hurts ? \n",
      "정답문장 : quelle est la dent qui fait mal ? \n",
      "번역문장 : est-ce que ce que je suis le chef ? \n",
      "--------------------------------------------------\n",
      "1/1 [==============================] - 0s 15ms/step\n",
      "1/1 [==============================] - 0s 16ms/step\n",
      "1/1 [==============================] - 0s 14ms/step\n",
      "1/1 [==============================] - 0s 15ms/step\n",
      "1/1 [==============================] - 0s 15ms/step\n",
      "입력문장 : why give it to me ? \n",
      "정답문장 : pourquoi me le donner ? \n",
      "번역문장 : pourquoi devrais-je ! \n",
      "--------------------------------------------------\n",
      "1/1 [==============================] - 0s 13ms/step\n",
      "1/1 [==============================] - 0s 15ms/step\n",
      "1/1 [==============================] - 0s 19ms/step\n",
      "1/1 [==============================] - 0s 19ms/step\n",
      "1/1 [==============================] - 0s 16ms/step\n",
      "1/1 [==============================] - 0s 16ms/step\n",
      "1/1 [==============================] - 0s 15ms/step\n",
      "입력문장 : you have to focus . \n",
      "정답문장 : tu dois te concentrer . \n",
      "번역문장 : tu dois nous concentrer . \n",
      "--------------------------------------------------\n",
      "1/1 [==============================] - 0s 13ms/step\n",
      "1/1 [==============================] - 0s 15ms/step\n",
      "1/1 [==============================] - 0s 19ms/step\n",
      "1/1 [==============================] - 0s 16ms/step\n",
      "1/1 [==============================] - 0s 17ms/step\n",
      "1/1 [==============================] - 0s 18ms/step\n",
      "1/1 [==============================] - 0s 19ms/step\n",
      "입력문장 : clean up this mess . \n",
      "정답문장 : nettoie ce bazar . \n",
      "번역문장 : nettoyez ce que c'est . \n",
      "--------------------------------------------------\n",
      "1/1 [==============================] - 0s 14ms/step\n",
      "1/1 [==============================] - 0s 15ms/step\n",
      "1/1 [==============================] - 0s 15ms/step\n",
      "1/1 [==============================] - 0s 16ms/step\n",
      "1/1 [==============================] - 0s 16ms/step\n",
      "1/1 [==============================] - 0s 15ms/step\n",
      "입력문장 : have you found tom ? \n",
      "정답문장 : avez-vous trouvé tom ? \n",
      "번역문장 : as-tu appelé tom ? \n",
      "--------------------------------------------------\n",
      "1/1 [==============================] - 0s 19ms/step\n",
      "1/1 [==============================] - 0s 16ms/step\n",
      "1/1 [==============================] - 0s 22ms/step\n",
      "1/1 [==============================] - 0s 15ms/step\n",
      "1/1 [==============================] - 0s 20ms/step\n",
      "1/1 [==============================] - 0s 38ms/step\n",
      "1/1 [==============================] - 0s 19ms/step\n",
      "1/1 [==============================] - 0s 21ms/step\n",
      "1/1 [==============================] - 0s 21ms/step\n",
      "1/1 [==============================] - 0s 18ms/step\n",
      "입력문장 : i know it's a mess . \n",
      "정답문장 : je sais que c’est le bordel . \n",
      "번역문장 : je connais ce que j'ai un coup . \n",
      "--------------------------------------------------\n"
     ]
    }
   ],
   "source": [
    "for seq_index in  [4, 57, 230, 345,533, 1257, 1845,2847]:\n",
    "  input_seq = encoder_input_test[seq_index: seq_index + 1]\n",
    "  decoded_sentence = decode_sequence(input_seq)\n",
    "\n",
    "  print(\"입력문장 :\",seq_to_src(encoder_input_test[seq_index]))\n",
    "  print(\"정답문장 :\",seq_to_tar(decoder_input_test[seq_index]))\n",
    "  print(\"번역문장 :\",decoded_sentence[1:-5])\n",
    "  print(\"-\"*50)"
   ]
  },
  {
   "attachments": {},
   "cell_type": "markdown",
   "metadata": {},
   "source": [
    "- 입력문장 : what a lovely day ! 정말 좋은 날씨야!\n",
    "- 정답문장 : quelle journée délicieuse . 정말 멋진 날이죠.\n",
    "- 번역문장 : quelle journée pourrie ! 정말 끔찍한 날이군! X \n",
    "- <br>   \n",
    "- 입력문장 : what have you got ? 너는 무엇을 가지고 있니?\n",
    "- 정답문장 : qu'est-ce que vous avez ?  뭐가 있죠?\n",
    "- 번역문장 : qu'est-ce qui vous a ? 왜 그러세요? X\n",
    "- <br>\n",
    "- 입력문장 : which tooth hurts ? 어떤 이가 아프니?\n",
    "- 정답문장 : quelle est la dent qui fait mal ? 어떤 이가 아픈가요?\n",
    "- 번역문장 : est-ce que ce que je suis le chef ? 내가 치프인가?  X\n",
    "- <br>\n",
    "- 입력문장 : why give it to me ? 왜 나한테 줘?\n",
    "- 정답문장 : pourquoi me le donner ? 왜 제게 그것을 주나요?\n",
    "- 번역문장 : pourquoi devrais-je ! 내가 왜 그래야 하지? X\n",
    "- <br>\n",
    "- 입력문장 : you have to focus . 너는 집중해야 한다\n",
    "- 정답문장 : tu dois te concentrer . 너는 정신을 바짝 차려야 한다\n",
    "- 번역문장 : tu dois nous concentrer . 너는 우리 일에 집중해야 한다 O\n",
    "- <br>\n",
    "- 입력문장 : clean up this mess . 이 난장판을 치워라\n",
    "- 정답문장 : nettoie ce bazar . 이 잡동사니들을 치워라\n",
    "- 번역문장 : nettoyez ce que c'est . 무엇인지를 깨끗이 닦다  O\n",
    "- <br>\n",
    "- 입력문장 : have you found tom ? 톰을 찾았나요?\n",
    "- 정답문장 : avez-vous trouvé tom ? 톰을 찾았나요?\n",
    "- 번역문장 : as-tu appelé tom ? 톰한테 전화했어? O\n",
    "- <br>\n",
    "- 입력문장 : i know it's a mess . 엉망인 거 알아\n",
    "- 정답문장 : je sais que c’est le bordel . 난장판인 거 알아\n",
    "- 번역문장 : je connais ce que j'ai un coup . 나는 내가 무슨 일을 당했는지 안다 X\n"
   ]
  },
  {
   "attachments": {},
   "cell_type": "markdown",
   "metadata": {},
   "source": [
    "# Step 7. 회고"
   ]
  },
  {
   "attachments": {},
   "cell_type": "markdown",
   "metadata": {},
   "source": [
    "- RNN을 통해 encoder, decoder를 tensorflow functional API을 이용해서 구현해 보았다. (sequential model, functional API, subclassing 3가지 방식중에서)\n",
    "- RNN을 처음 학습시에 이전 State값을 기억해서 다음 연산에 쓴다는 것은 알았는데, 실제 구현하면서 내용에 대한 이해가 깊어졌다. \n",
    "- NODE 학습에서 문자기반을 학습하다가 단어기반으로 바꾸면서 Tokenizer설정부분이 달라졌고, Embedding Layer를 써서 단어사이에 유사관계를 통해 모델의 표현력을 더 높일 수 있었다. \n",
    "- 번역기의 최종 품질이 생각만큼 높지 않아서 정확도를 높여줄 수 있는 방안으로는 데이타 자체를 순차적으로 slice로 분리하지 않고 랜덤하게 split시켜서 시도해 볼만하고, 좀 더 많은 양의 데이타로 train을 시도해 볼 수 있겠다. \n",
    " "
   ]
  },
  {
   "attachments": {},
   "cell_type": "markdown",
   "metadata": {},
   "source": [
    "# Step 8. 참고자료"
   ]
  },
  {
   "cell_type": "markdown",
   "metadata": {},
   "source": [
    "https://wikidocs.net/24996"
   ]
  }
 ],
 "metadata": {
  "kernelspec": {
   "display_name": "tensor_gpu",
   "language": "python",
   "name": "tensor_gpu"
  },
  "language_info": {
   "codemirror_mode": {
    "name": "ipython",
    "version": 3
   },
   "file_extension": ".py",
   "mimetype": "text/x-python",
   "name": "python",
   "nbconvert_exporter": "python",
   "pygments_lexer": "ipython3",
   "version": "3.9.16"
  },
  "orig_nbformat": 4
 },
 "nbformat": 4,
 "nbformat_minor": 2
}
