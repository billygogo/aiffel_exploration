{
 "cells": [
  {
   "cell_type": "markdown",
   "id": "3bd3ec66",
   "metadata": {},
   "source": [
    "# Q1. I study ARIMA model in ML, what's the difference between AIC and MAPE?"
   ]
  },
  {
   "cell_type": "markdown",
   "id": "78caae59",
   "metadata": {},
   "source": [
    "AIC (Akaike Information Criterion) and MAPE (Mean Absolute Percentage Error) are both metrics used to evaluate the performance of time series models like ARIMA.\n",
    "\n",
    "However, they serve different purposes and measure different aspects of model performance:\n",
    "\n",
    "* AIC is a statistical measure of how well a model fits the data while taking into account the number of parameters used. It provides a trade-off between model complexity and goodness of fit, with lower values indicating a better fit. The goal of AIC is to find the most parsimonious model that best explains the data.\n",
    "\n",
    "* MAPE, on the other hand, is an error metric that measures the percentage difference between the actual and predicted values of a time series. It provides a measure of the accuracy of the model's predictions, with lower values indicating better accuracy. The goal of MAPE is to minimize the difference between predicted and actual values.\n",
    "\n",
    "In summary, AIC is used to select the best model among a set of candidate models, while MAPE is used to evaluate the accuracy of the chosen model's predictions."
   ]
  },
  {
   "cell_type": "markdown",
   "id": "0c709cdf",
   "metadata": {},
   "source": [
    "# Q2. tell me difference variance, covariance, autocovariance "
   ]
  },
  {
   "cell_type": "markdown",
   "id": "c25ceb5c",
   "metadata": {},
   "source": [
    "Variance, covariance, and autocovariance are all statistical measures that describe the relationship between variables, but they have different meanings and applications.\n",
    "\n",
    "* Variance measures the variability of a single variable. It is the average of the squared differences between each data point and the mean of the data. A low variance indicates that the data points are clustered tightly around the mean, while a high variance indicates that the data points are spread out over a wider range of values.\n",
    "\n",
    "* Covariance measures the linear relationship between two variables. It is a measure of how much two variables vary together. A positive covariance means that the variables tend to increase or decrease together, while a negative covariance means that they tend to move in opposite directions. A covariance of zero means that the variables are uncorrelated.\n",
    "\n",
    "* Autocovariance is a measure of the linear relationship between a time series and a lagged version of itself. It measures how much the values of a time series at one point in time are related to the values at a previous point in time. Autocovariance can be positive or negative, depending on whether the time series tends to move in the same or opposite direction at different points in time.\n",
    "\n",
    "In summary, variance measures the variability of a single variable, covariance measures the linear relationship between two variables, and autocovariance measures the linear relationship between a time series and a lagged version of itself."
   ]
  }
 ],
 "metadata": {
  "kernelspec": {
   "display_name": "Python 3 (ipykernel)",
   "language": "python",
   "name": "python3"
  },
  "language_info": {
   "codemirror_mode": {
    "name": "ipython",
    "version": 3
   },
   "file_extension": ".py",
   "mimetype": "text/x-python",
   "name": "python",
   "nbconvert_exporter": "python",
   "pygments_lexer": "ipython3",
   "version": "3.9.13"
  }
 },
 "nbformat": 4,
 "nbformat_minor": 5
}
