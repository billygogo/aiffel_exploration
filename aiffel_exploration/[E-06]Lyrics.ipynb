{
 "cells": [
  {
   "attachments": {},
   "cell_type": "markdown",
   "id": "40b06160",
   "metadata": {},
   "source": [
    "# [E-06] Lyrics 작사가 인공지능 만들기 \n",
    "\n"
   ]
  },
  {
   "cell_type": "code",
   "execution_count": 1,
   "id": "468c8886",
   "metadata": {},
   "outputs": [],
   "source": [
    "import os, re \n",
    "import numpy as np\n",
    "import tensorflow as tf\n",
    "import glob"
   ]
  },
  {
   "cell_type": "markdown",
   "id": "22812dd4",
   "metadata": {},
   "source": [
    "# Step 1.데이터 다운로드"
   ]
  },
  {
   "attachments": {},
   "cell_type": "markdown",
   "id": "337b7ef8",
   "metadata": {},
   "source": [
    " mkdir -p ~/aiffel/lyricist/models \n",
    "* mkdir : make directory의 약자로서 디렉토리를 생성할 때 사용하는 명령어입니다. , -p : 상위 경로도 함께 생성 models 폴더를 생성할때 lyricist 폴더가 없으면 해당옵션이 없을시 에러발생\n",
    "\n",
    " ln -s ~/data ~/aiffel/lyricist/data \n",
    "* ln : Link 의 약자로서 리눅스 파일시스템에서 링크파일을 만드는 명령어입니다. , -s : 심볼릭링크(단순히 원본파일을 가리키도록 링크만 시켜둔 것으로 MS의 윈도우시스템에서 흔히 사용하는 '바로가기' 같은 것)를 생성하라는 옵션\n",
    "\n"
   ]
  },
  {
   "cell_type": "markdown",
   "id": "eedcb001",
   "metadata": {},
   "source": [
    "# Step 2.데이터 읽어오기"
   ]
  },
  {
   "cell_type": "code",
   "execution_count": 2,
   "id": "a35aa8a6",
   "metadata": {},
   "outputs": [
    {
     "name": "stdout",
     "output_type": "stream",
     "text": [
      "데이터 크기: 187088\n",
      "Examples:\n",
      " ['Looking for some education', 'Made my way into the night', 'All that bullshit conversation']\n"
     ]
    }
   ],
   "source": [
    "import os, re \n",
    "import numpy as np\n",
    "import tensorflow as tf\n",
    "import glob\n",
    "txt_file_path = './data/lyrics/*' \n",
    "\n",
    "txt_list = glob.glob(txt_file_path) #txt_file_path 경로에 있는 모든 파일명을 리스트 형식으로 txt_list 에 할당\n",
    "\n",
    "raw_corpus = [] \n",
    "\n",
    "# 여러개의 txt 파일을 모두 읽어서 raw_corpus 에 담습니다.\n",
    "for txt_file in txt_list:\n",
    "    with open(txt_file, \"r\") as f:\n",
    "        raw = f.read().splitlines() #read() splitlines()  : 여러라인으로 구분되어 있는 문자열을 한라인씩 분리하여 리스트로 반환\n",
    "        raw_corpus.extend(raw) # extend() : 리스트함수로 추가적인 내용을 연장 한다.\n",
    "\n",
    "print(\"데이터 크기:\", len(raw_corpus))\n",
    "print(\"Examples:\\n\", raw_corpus[:3])"
   ]
  },
  {
   "cell_type": "markdown",
   "id": "6da90519",
   "metadata": {},
   "source": [
    "# Step 3. 데이터 정제\n"
   ]
  },
  {
   "attachments": {},
   "cell_type": "markdown",
   "id": "edd84ced",
   "metadata": {},
   "source": [
    "## 3.1 불필요 요소 제거 (preprocess_sentence)\n",
    "1. 소문자로 바꾸고, 양쪽 공백을 지웁니다\n",
    "2. 특수문자 양쪽에 공백을 넣고\n",
    "3. 여러개의 공백은 하나의 공백으로 바꿉니다\n",
    "4. a-zA-Z?.!,¿가 아닌 모든 문자를 하나의 공백으로 바꿉니다\n",
    "5. 다시 양쪽 공백을 지웁니다\n",
    "6. 문장 시작에는 <start>, 끝에는 <end>를 추가합니다"
   ]
  },
  {
   "cell_type": "code",
   "execution_count": 3,
   "id": "800ec809",
   "metadata": {},
   "outputs": [
    {
     "name": "stdout",
     "output_type": "stream",
     "text": [
      "<start> this is sample sentence . <end>\n"
     ]
    }
   ],
   "source": [
    "\n",
    "def preprocess_sentence(sentence):\n",
    "    sentence = sentence.lower().strip() # 1\n",
    "    sentence = re.sub(r\"([?.!,¿])\", r\" \\1 \", sentence) # 2\n",
    "    sentence = re.sub(r'[\" \"]+', \" \", sentence) # 3\n",
    "    sentence = re.sub(r\"[^a-zA-Z?.!,¿]+\", \" \", sentence) # 4\n",
    "    sentence = sentence.strip() # 5\n",
    "    sentence = '<start> ' + sentence + ' <end>' # 6\n",
    "    return sentence\n",
    "\n",
    "print(preprocess_sentence(\"This @_is ;;;sample        sentence.\"))"
   ]
  },
  {
   "attachments": {},
   "cell_type": "markdown",
   "id": "aab3bb56",
   "metadata": {},
   "source": [
    "## 3.2  원하지 않는 요소 제거\n",
    "* 길이 0  건너뛰기\n",
    "* 길이 30이상 건너뛰기\n",
    "* : 로 끝나는 줄 건너뛰기"
   ]
  },
  {
   "cell_type": "code",
   "execution_count": 4,
   "id": "c12e96b9",
   "metadata": {},
   "outputs": [
    {
     "data": {
      "text/plain": [
       "['<start> looking for some education <end>',\n",
       " '<start> made my way into the night <end>',\n",
       " '<start> let s just say that maybe <end>',\n",
       " '<start> if that s love in your eyes <end>',\n",
       " '<start> it s more than enough <end>',\n",
       " '<start> had some bad love <end>',\n",
       " '<start> made my way into the sun <end>',\n",
       " '<start> my friends got their ladies <end>',\n",
       " '<start> and they re all having babies <end>',\n",
       " '<start> let s just say that maybe <end>']"
      ]
     },
     "execution_count": 4,
     "metadata": {},
     "output_type": "execute_result"
    }
   ],
   "source": [
    "corpus = []\n",
    "\n",
    "# raw_corpus list에 저장된 문장들을 순서대로 반환하여 sentence에 저장\n",
    "for sentence in raw_corpus:\n",
    "    # 우리가 원하지 않는 문장은 건너뜁니다\n",
    "    if len(sentence) == 0: continue\n",
    "    if len(sentence) >= 30: continue # 글자수 토근수 30개 이상은 건너 뛴다\n",
    "    if sentence[-1] == \":\": continue\n",
    "    \n",
    "    # 앞서 구현한 preprocess_sentence() 함수를 이용하여 문장을 정제를 하고 담아주세요\n",
    "    preprocessed_sentence = preprocess_sentence(sentence)\n",
    "    corpus.append(preprocessed_sentence)\n",
    "        \n",
    "# 정제된 결과를 10개만 확인해보죠\n",
    "corpus[:10]"
   ]
  },
  {
   "attachments": {},
   "cell_type": "markdown",
   "id": "79751ad0",
   "metadata": {},
   "source": [
    "처음에는 15자 이상을 넣지 않도록 했는데, 문장이 단답으로 끝나서 좀 더 풍성한 문장을 유도하기 위해 30자 이상을 넣지 않도록 했다.    \n",
    "결과 문장이 조금 더 다채로워졌다. "
   ]
  },
  {
   "cell_type": "markdown",
   "id": "0f03771e",
   "metadata": {},
   "source": [
    "## 3.3 tokenize \n",
    "* fit_on_texts : 단어장 완성\n",
    "* corpus-> tensor로 변환\n",
    "* 입력데이타 패딩 처리"
   ]
  },
  {
   "cell_type": "code",
   "execution_count": 5,
   "id": "32a48304",
   "metadata": {},
   "outputs": [
    {
     "name": "stdout",
     "output_type": "stream",
     "text": [
      "[[  2 308  32 ...   0   0   0]\n",
      " [  2 235  14 ...   0   0   0]\n",
      " [  2  63  16 ...   0   0   0]\n",
      " ...\n",
      " [  2  20  69 ...   0   0   0]\n",
      " [  2  46  22 ...   0   0   0]\n",
      " [  2  20  69 ...   0   0   0]] <keras.preprocessing.text.Tokenizer object at 0x0000027F1A6FA790>\n"
     ]
    }
   ],
   "source": [
    "def tokenize(corpus):\n",
    "\n",
    "    tokenizer = tf.keras.preprocessing.text.Tokenizer(\n",
    "        num_words=12000, \n",
    "        filters=' ',\n",
    "        oov_token=\"<unk>\"\n",
    "    )\n",
    "\n",
    "    tokenizer.fit_on_texts(corpus)\n",
    "    tensor = tokenizer.texts_to_sequences(corpus)   \n",
    "    tensor = tf.keras.preprocessing.sequence.pad_sequences(tensor, padding='post',maxlen=20)  \n",
    "    \n",
    "    print(tensor,tokenizer)\n",
    "    return tensor, tokenizer\n",
    "\n",
    "tensor, tokenizer = tokenize(corpus)"
   ]
  },
  {
   "cell_type": "markdown",
   "id": "e39bbd4f",
   "metadata": {},
   "source": [
    "## 3.4 Source와 Target 추출"
   ]
  },
  {
   "cell_type": "code",
   "execution_count": 6,
   "id": "7b95df53",
   "metadata": {},
   "outputs": [
    {
     "name": "stdout",
     "output_type": "stream",
     "text": [
      "[   2  308   32  113 4499    3    0    0    0    0    0    0    0    0\n",
      "    0    0    0    0    0]\n",
      "[ 308   32  113 4499    3    0    0    0    0    0    0    0    0    0\n",
      "    0    0    0    0    0]\n"
     ]
    }
   ],
   "source": [
    "# tensor에서 마지막 토큰을 잘라내서 소스 문장을 생성합니다\n",
    "# 마지막 토큰은 <end>가 아니라 <pad>일 가능성이 높습니다.\n",
    "src_input = tensor[:, :-1]  \n",
    "# tensor에서 <start>를 잘라내서 타겟 문장을 생성합니다.\n",
    "tgt_input = tensor[:, 1:]    \n",
    "\n",
    "print(src_input[0])\n",
    "print(tgt_input[0])"
   ]
  },
  {
   "cell_type": "markdown",
   "id": "dd7f69f9",
   "metadata": {},
   "source": [
    "# Step 4. 평가 데이터셋 분리"
   ]
  },
  {
   "cell_type": "code",
   "execution_count": 7,
   "id": "a67e40e1",
   "metadata": {},
   "outputs": [],
   "source": [
    "from sklearn.model_selection import train_test_split\n",
    "\n",
    "enc_train, enc_val, dec_train, dec_val = train_test_split(src_input, tgt_input, test_size= 0.2  )\n"
   ]
  },
  {
   "cell_type": "code",
   "execution_count": 8,
   "id": "8840f608",
   "metadata": {},
   "outputs": [],
   "source": [
    "BUFFER_SIZE = len(src_input)\n",
    "BATCH_SIZE = 256\n",
    "steps_per_epoch = len(src_input) // BATCH_SIZE\n",
    "\n",
    "VOCAB_SIZE = tokenizer.num_words + 1  \n",
    "\n",
    "\n",
    "train_dataset = tf.data.Dataset.from_tensor_slices((enc_train, dec_train))\n",
    "val_dataset = tf.data.Dataset.from_tensor_slices((enc_val, dec_val))\n",
    "\n",
    "train_dataset = train_dataset.shuffle(BUFFER_SIZE)\n",
    "train_dataset = train_dataset.batch(BATCH_SIZE, drop_remainder=True)\n",
    "\n",
    "# val_dataset = val_dataset.shuffle(BUFFER_SIZE) \n",
    "val_dataset = val_dataset.batch(BATCH_SIZE, drop_remainder=True)\n",
    "\n",
    "# https://www.tensorflow.org/tutorials/load_data/numpy?hl=ko"
   ]
  },
  {
   "cell_type": "code",
   "execution_count": 10,
   "id": "57efca04",
   "metadata": {},
   "outputs": [
    {
     "data": {
      "text/plain": [
       "(54672, 19)"
      ]
     },
     "execution_count": 10,
     "metadata": {},
     "output_type": "execute_result"
    }
   ],
   "source": [
    "enc_train.shape"
   ]
  },
  {
   "cell_type": "markdown",
   "id": "00201eb1",
   "metadata": {},
   "source": [
    "# Step 5. 인공지능 만들기"
   ]
  },
  {
   "cell_type": "code",
   "execution_count": 53,
   "id": "54625fb3",
   "metadata": {},
   "outputs": [],
   "source": [
    "class TextGenerator(tf.keras.Model):\n",
    "    def __init__(self, vocab_size, embedding_size, hidden_size):\n",
    "        super().__init__()\n",
    "        # Embedding 레이어, 2개의 LSTM 레이어, 1개의 Dense 레이어로 구성되어 있다.\n",
    "        # Embedding 레이어는 단어 사전의 인덱스 값을 해당 인덱스 번째의 워드 벡터로 바꿔준다.\n",
    "        # 이 워드 벡터는 의미 벡터 공간에서 단어의 추상적 표현으로 사용된다. \n",
    "        self.embedding = tf.keras.layers.Embedding(vocab_size, embedding_size) \n",
    "        self.rnn_1 = tf.keras.layers.LSTM(hidden_size, return_sequences=True)  \n",
    "        self.rnn_2 = tf.keras.layers.LSTM(hidden_size, return_sequences=True)\n",
    "        self.linear = tf.keras.layers.Dense(vocab_size)\n",
    "        \n",
    "    def call(self, x):\n",
    "        out = self.embedding(x)\n",
    "        out = self.rnn_1(out)\n",
    "        out = self.rnn_2(out)\n",
    "        out = self.linear(out)\n",
    "        \n",
    "        return out\n",
    "# embedding size 값이 커질수록 단어의 추상적인 특징들을 더 잡아낼 수 있지만\n",
    "# 그만큼 충분한 데이터가 없으면 안좋은 결과 값을 가져옵니다!   \n",
    "embedding_size = 512 # 워드 벡터의 차원수를 말하며 단어가 추상적으로 표현되는 크기입니다.\n",
    "hidden_size = 1024 # 모델에 얼마나 많은 일꾼을 둘 것인가? 정도로 이해하면 좋다.\n",
    "model = TextGenerator(tokenizer.num_words + 1, embedding_size , hidden_size) # tokenizer.num_words에 +1인 이유는 문장에 없는 pad가 사용되었기 때문이다."
   ]
  },
  {
   "cell_type": "markdown",
   "id": "66b8eefb",
   "metadata": {},
   "source": [
    "* embedding_size를 256에서 512로 늘렸더니 val_loss값이 4.3-> 1.9로 떨어졌다. "
   ]
  },
  {
   "cell_type": "code",
   "execution_count": 54,
   "id": "bd207dbc",
   "metadata": {},
   "outputs": [
    {
     "data": {
      "text/plain": [
       "<tf.Tensor: shape=(256, 19, 12001), dtype=float32, numpy=\n",
       "array([[[ 3.8165518e-04,  4.2961846e-04, -1.1484944e-04, ...,\n",
       "          3.7408932e-04, -1.7964572e-04, -2.3441094e-04],\n",
       "        [ 7.0546573e-04,  5.9120887e-04, -1.8376138e-04, ...,\n",
       "          5.4447836e-04, -8.1669685e-05, -1.2808546e-04],\n",
       "        [ 5.9210992e-04,  1.3618582e-04,  6.5528664e-05, ...,\n",
       "          3.6543721e-04, -3.7849724e-04, -3.8533890e-05],\n",
       "        ...,\n",
       "        [ 4.3125269e-03,  1.5601229e-03, -4.8207394e-03, ...,\n",
       "          2.2424394e-03, -3.0119768e-03, -1.8783218e-03],\n",
       "        [ 4.4125728e-03,  1.7320473e-03, -5.0692670e-03, ...,\n",
       "          2.2901995e-03, -3.1698633e-03, -1.8435601e-03],\n",
       "        [ 4.4990084e-03,  1.8930712e-03, -5.2842814e-03, ...,\n",
       "          2.3278042e-03, -3.3064925e-03, -1.8076940e-03]],\n",
       "\n",
       "       [[ 3.8165518e-04,  4.2961846e-04, -1.1484944e-04, ...,\n",
       "          3.7408932e-04, -1.7964572e-04, -2.3441094e-04],\n",
       "        [ 5.2502693e-04,  4.5941328e-04, -2.1797638e-04, ...,\n",
       "          4.0476723e-04, -4.1397513e-04, -3.0218839e-04],\n",
       "        [ 7.2858814e-04,  5.4822100e-04, -2.1762887e-04, ...,\n",
       "          2.9460058e-04, -4.3571548e-04, -4.3290164e-04],\n",
       "        ...,\n",
       "        [ 4.1769766e-03,  9.5889176e-04, -1.8919914e-03, ...,\n",
       "          2.5054740e-03, -9.0085191e-04, -2.2737377e-03],\n",
       "        [ 4.2821360e-03,  1.0600227e-03, -2.4219344e-03, ...,\n",
       "          2.7524582e-03, -1.3293487e-03, -2.1630684e-03],\n",
       "        [ 4.3731346e-03,  1.1872295e-03, -2.9093111e-03, ...,\n",
       "          2.9302370e-03, -1.7365708e-03, -2.0460894e-03]],\n",
       "\n",
       "       [[ 3.8165518e-04,  4.2961846e-04, -1.1484944e-04, ...,\n",
       "          3.7408932e-04, -1.7964572e-04, -2.3441094e-04],\n",
       "        [ 4.1971909e-04,  1.0089517e-03, -5.5048447e-05, ...,\n",
       "          9.0565399e-04, -1.8869282e-04, -5.1247055e-04],\n",
       "        [ 3.2347973e-04,  1.2271188e-03, -8.0971709e-05, ...,\n",
       "          1.3158635e-03, -5.5806356e-04, -8.9788344e-04],\n",
       "        ...,\n",
       "        [ 3.8359268e-03,  1.2902394e-03, -3.9787148e-03, ...,\n",
       "          2.3953244e-03, -2.7766493e-03, -2.0175565e-03],\n",
       "        [ 4.0243892e-03,  1.4328101e-03, -4.3030512e-03, ...,\n",
       "          2.4611230e-03, -2.9662221e-03, -1.9945407e-03],\n",
       "        [ 4.1859122e-03,  1.5804605e-03, -4.5932094e-03, ...,\n",
       "          2.5060950e-03, -3.1382868e-03, -1.9597502e-03]],\n",
       "\n",
       "       ...,\n",
       "\n",
       "       [[ 3.8165518e-04,  4.2961846e-04, -1.1484944e-04, ...,\n",
       "          3.7408932e-04, -1.7964572e-04, -2.3441094e-04],\n",
       "        [ 5.6303031e-04,  5.7572505e-04, -3.0427851e-05, ...,\n",
       "          8.5942924e-04, -6.4848113e-04, -5.5030902e-04],\n",
       "        [ 4.8862566e-04,  6.9626846e-04, -2.0451295e-04, ...,\n",
       "          1.2269331e-03, -9.6411101e-04, -7.3178526e-04],\n",
       "        ...,\n",
       "        [ 4.2238352e-03,  1.5410247e-03, -4.3884595e-03, ...,\n",
       "          2.7313435e-03, -2.7305495e-03, -1.7756216e-03],\n",
       "        [ 4.3161223e-03,  1.6864201e-03, -4.6876608e-03, ...,\n",
       "          2.7223562e-03, -2.9474848e-03, -1.7911000e-03],\n",
       "        [ 4.3971101e-03,  1.8287475e-03, -4.9478705e-03, ...,\n",
       "          2.7078819e-03, -3.1359144e-03, -1.7908792e-03]],\n",
       "\n",
       "       [[ 3.8165518e-04,  4.2961846e-04, -1.1484944e-04, ...,\n",
       "          3.7408932e-04, -1.7964572e-04, -2.3441094e-04],\n",
       "        [ 2.4657373e-04,  5.5743364e-04, -3.6938913e-04, ...,\n",
       "          5.9658615e-04, -2.5393124e-04, -5.7488360e-04],\n",
       "        [-8.7495027e-05,  7.3972106e-04, -8.8039762e-04, ...,\n",
       "          8.1282645e-04, -2.3706745e-04, -4.9589481e-04],\n",
       "        ...,\n",
       "        [ 4.0076664e-03,  1.1635900e-03, -4.1750614e-03, ...,\n",
       "          2.7728539e-03, -2.2800870e-03, -2.2078559e-03],\n",
       "        [ 4.1285427e-03,  1.2977582e-03, -4.4757160e-03, ...,\n",
       "          2.7796377e-03, -2.5104284e-03, -2.2024428e-03],\n",
       "        [ 4.2341505e-03,  1.4407188e-03, -4.7462038e-03, ...,\n",
       "          2.7719317e-03, -2.7234782e-03, -2.1695378e-03]],\n",
       "\n",
       "       [[ 3.8165518e-04,  4.2961846e-04, -1.1484944e-04, ...,\n",
       "          3.7408932e-04, -1.7964572e-04, -2.3441094e-04],\n",
       "        [ 1.9183087e-04,  3.6763473e-04, -7.4691890e-04, ...,\n",
       "          3.5272018e-04, -1.7487770e-04, -4.5452834e-04],\n",
       "        [ 3.5023717e-05,  5.0288707e-04, -7.6359144e-04, ...,\n",
       "          1.6770202e-04, -1.1686852e-04, -2.4935312e-04],\n",
       "        ...,\n",
       "        [ 4.2250007e-03,  1.8503129e-03, -5.3833420e-03, ...,\n",
       "          2.4062791e-03, -3.0052802e-03, -1.8653354e-03],\n",
       "        [ 4.3419697e-03,  1.9991663e-03, -5.5487445e-03, ...,\n",
       "          2.4341568e-03, -3.1699450e-03, -1.8302235e-03],\n",
       "        [ 4.4429097e-03,  2.1367732e-03, -5.6913476e-03, ...,\n",
       "          2.4551770e-03, -3.3091095e-03, -1.7971999e-03]]], dtype=float32)>"
      ]
     },
     "execution_count": 54,
     "metadata": {},
     "output_type": "execute_result"
    }
   ],
   "source": [
    "for src_sample, tgt_sample in train_dataset.take(1): break\n",
    "\n",
    "# 한 배치만 불러온 데이터를 모델에 넣어봅니다\n",
    "model(src_sample)"
   ]
  },
  {
   "cell_type": "code",
   "execution_count": 38,
   "id": "c1615dda",
   "metadata": {},
   "outputs": [
    {
     "name": "stdout",
     "output_type": "stream",
     "text": [
      "Model: \"text_generator_5\"\n",
      "_________________________________________________________________\n",
      " Layer (type)                Output Shape              Param #   \n",
      "=================================================================\n",
      " embedding_5 (Embedding)     multiple                  3072256   \n",
      "                                                                 \n",
      " lstm_10 (LSTM)              multiple                  5246976   \n",
      "                                                                 \n",
      " dropout_5 (Dropout)         multiple                  0 (unused)\n",
      "                                                                 \n",
      " lstm_11 (LSTM)              multiple                  8392704   \n",
      "                                                                 \n",
      " dropout_6 (Dropout)         multiple                  0 (unused)\n",
      "                                                                 \n",
      " dense_5 (Dense)             multiple                  12301025  \n",
      "                                                                 \n",
      "=================================================================\n",
      "Total params: 29,012,961\n",
      "Trainable params: 29,012,961\n",
      "Non-trainable params: 0\n",
      "_________________________________________________________________\n"
     ]
    }
   ],
   "source": [
    "model.summary()"
   ]
  },
  {
   "attachments": {},
   "cell_type": "markdown",
   "id": "dd99bb4b",
   "metadata": {},
   "source": [
    "# Step 6. 인공지능 훈련 "
   ]
  },
  {
   "cell_type": "code",
   "execution_count": 39,
   "id": "cb84f03b",
   "metadata": {
    "scrolled": true
   },
   "outputs": [
    {
     "name": "stdout",
     "output_type": "stream",
     "text": [
      "Epoch 1/30\n",
      "213/213 [==============================] - 62s 281ms/step - loss: 2.0523 - val_loss: 1.6722\n",
      "Epoch 2/30\n",
      "213/213 [==============================] - 62s 291ms/step - loss: 1.5982 - val_loss: 1.5711\n",
      "Epoch 3/30\n",
      "213/213 [==============================] - 61s 286ms/step - loss: 1.5020 - val_loss: 1.5085\n",
      "Epoch 4/30\n",
      "213/213 [==============================] - 61s 287ms/step - loss: 1.4330 - val_loss: 1.4638\n",
      "Epoch 5/30\n",
      "213/213 [==============================] - 55s 260ms/step - loss: 1.3773 - val_loss: 1.4337\n",
      "Epoch 6/30\n",
      "213/213 [==============================] - 54s 252ms/step - loss: 1.3275 - val_loss: 1.4068\n",
      "Epoch 7/30\n",
      "213/213 [==============================] - 61s 288ms/step - loss: 1.2817 - val_loss: 1.3805\n",
      "Epoch 8/30\n",
      "213/213 [==============================] - 54s 253ms/step - loss: 1.2392 - val_loss: 1.3609\n",
      "Epoch 9/30\n",
      "213/213 [==============================] - 54s 254ms/step - loss: 1.1994 - val_loss: 1.3409\n",
      "Epoch 10/30\n",
      "213/213 [==============================] - 58s 270ms/step - loss: 1.1611 - val_loss: 1.3253\n",
      "Epoch 11/30\n",
      "213/213 [==============================] - 60s 283ms/step - loss: 1.1244 - val_loss: 1.3123\n",
      "Epoch 12/30\n",
      "213/213 [==============================] - 61s 287ms/step - loss: 1.0899 - val_loss: 1.2998\n",
      "Epoch 13/30\n",
      "213/213 [==============================] - 61s 286ms/step - loss: 1.0577 - val_loss: 1.2884\n",
      "Epoch 14/30\n",
      "213/213 [==============================] - 61s 287ms/step - loss: 1.0278 - val_loss: 1.2787\n",
      "Epoch 15/30\n",
      "213/213 [==============================] - 61s 288ms/step - loss: 0.9993 - val_loss: 1.2729\n",
      "Epoch 16/30\n",
      "213/213 [==============================] - 61s 288ms/step - loss: 0.9728 - val_loss: 1.2627\n",
      "Epoch 17/30\n",
      "213/213 [==============================] - 63s 295ms/step - loss: 0.9478 - val_loss: 1.2583\n",
      "Epoch 18/30\n",
      "213/213 [==============================] - 72s 337ms/step - loss: 0.9243 - val_loss: 1.2516\n",
      "Epoch 19/30\n",
      "213/213 [==============================] - 64s 299ms/step - loss: 0.9020 - val_loss: 1.2492\n",
      "Epoch 20/30\n",
      "213/213 [==============================] - 64s 300ms/step - loss: 0.8815 - val_loss: 1.2453\n",
      "Epoch 21/30\n",
      "213/213 [==============================] - 64s 300ms/step - loss: 0.8616 - val_loss: 1.2426\n",
      "Epoch 22/30\n",
      "213/213 [==============================] - 62s 290ms/step - loss: 0.8426 - val_loss: 1.2418\n",
      "Epoch 23/30\n",
      "213/213 [==============================] - 64s 300ms/step - loss: 0.8248 - val_loss: 1.2416\n",
      "Epoch 24/30\n",
      "213/213 [==============================] - 64s 301ms/step - loss: 0.8078 - val_loss: 1.2405\n",
      "Epoch 25/30\n",
      "213/213 [==============================] - 61s 286ms/step - loss: 0.7916 - val_loss: 1.2381\n",
      "Epoch 26/30\n",
      "213/213 [==============================] - 64s 300ms/step - loss: 0.7759 - val_loss: 1.2381\n",
      "Epoch 27/30\n",
      "213/213 [==============================] - 64s 302ms/step - loss: 0.7615 - val_loss: 1.2406\n",
      "Epoch 28/30\n",
      "213/213 [==============================] - 64s 299ms/step - loss: 0.7473 - val_loss: 1.2423\n",
      "Epoch 29/30\n",
      "213/213 [==============================] - 65s 303ms/step - loss: 0.7343 - val_loss: 1.2435\n",
      "Epoch 30/30\n",
      "213/213 [==============================] - 65s 304ms/step - loss: 0.7217 - val_loss: 1.2474\n"
     ]
    }
   ],
   "source": [
    "optimizer = tf.keras.optimizers.Adam() # Adam은 현재 가장 많이 사용하는 옵티마이저이다. 자세한 내용은 차차 배운다.\n",
    "loss = tf.keras.losses.SparseCategoricalCrossentropy( # 훈련 데이터의 라벨이 정수의 형태로 제공될 때 사용하는 손실함수이다.\n",
    "    from_logits=True, # 기본값은 False이다. 모델에 의해 생성된 출력 값이 정규화되지 않았음을 손실 함수에 알려준다. 즉 softmax함수가 적용되지 않았다는걸 의미한다. \n",
    "    reduction='none'  # 기본값은 SUM이다. 각자 나오는 값의 반환 원할 때 None을 사용한다.\n",
    ")\n",
    "# 모델을 학습시키키 위한 학습과정을 설정하는 단계이다.\n",
    "model.compile(loss=loss, optimizer=optimizer) # 손실함수와 훈련과정을 설정했다.\n",
    "history= model.fit(train_dataset, epochs=30 , validation_data = val_dataset) # 만들어둔 데이터셋으로 모델을 학습한다. 30번 학습을 반복하겠다는 의미다."
   ]
  },
  {
   "attachments": {},
   "cell_type": "markdown",
   "id": "c3dbbe87",
   "metadata": {},
   "source": [
    "## 6-1 Valication Loss"
   ]
  },
  {
   "cell_type": "code",
   "execution_count": 40,
   "id": "8f4b59de",
   "metadata": {},
   "outputs": [
    {
     "name": "stdout",
     "output_type": "stream",
     "text": [
      "428/428 - 9s - loss: 1.2474 - 9s/epoch - 21ms/step\n"
     ]
    },
    {
     "data": {
      "text/plain": [
       "1.2473613023757935"
      ]
     },
     "execution_count": 40,
     "metadata": {},
     "output_type": "execute_result"
    }
   ],
   "source": [
    "model.evaluate(enc_val, dec_val, verbose = 2)"
   ]
  },
  {
   "cell_type": "code",
   "execution_count": 41,
   "id": "e28f68f3",
   "metadata": {},
   "outputs": [
    {
     "data": {
      "image/png": "[encoded data removed]",
      "text/plain": [
       "<Figure size 640x480 with 2 Axes>"
      ]
     },
     "metadata": {},
     "output_type": "display_data"
    }
   ],
   "source": [
    "\n",
    "%matplotlib inline\n",
    "import matplotlib.pyplot as plt\n",
    "\n",
    "fig, loss_ax = plt.subplots()\n",
    "\n",
    "acc_ax = loss_ax.twinx()\n",
    "\n",
    "loss_ax.plot(history.history['loss'], 'y', label='train loss')\n",
    "loss_ax.plot(history.history['val_loss'], 'r', label='val loss')\n",
    "loss_ax.set_xlabel('epoch')\n",
    "loss_ax.set_ylabel('loss')\n",
    "loss_ax.legend(loc='upper left')\n",
    "plt.show()"
   ]
  },
  {
   "cell_type": "markdown",
   "id": "caec67fc",
   "metadata": {},
   "source": [
    "# Step 7. 문장 생성"
   ]
  },
  {
   "cell_type": "code",
   "execution_count": 42,
   "id": "b83842d8",
   "metadata": {},
   "outputs": [],
   "source": [
    "#문장생성 함수 정의\n",
    "\n",
    "def generate_text(model, tokenizer, init_sentence=\"<start>\", max_len=20): #시작 문자열을 init_sentence 로 받으며 디폴트값은 <start> 를 받는다\n",
    "    # 테스트를 위해서 입력받은 init_sentence도 텐서로 변환합니다\n",
    "    test_input = tokenizer.texts_to_sequences([init_sentence]) #텍스트 안의 단어들을 숫자의 시퀀스의 형태로 변환\n",
    "    test_tensor = tf.convert_to_tensor(test_input, dtype=tf.int64)\n",
    "    end_token = tokenizer.word_index[\"<end>\"]\n",
    "\n",
    "    # 단어 하나씩 예측해 문장을 만듭니다\n",
    "    #    1. 입력받은 문장의 텐서를 입력합니다\n",
    "    #    2. 예측된 값 중 가장 높은 확률인 word index를 뽑아냅니다\n",
    "    #    3. 2에서 예측된 word index를 문장 뒤에 붙입니다\n",
    "    #    4. 모델이 <end>를 예측했거나, max_len에 도달했다면 문장 생성을 마칩니다 (도달 하지 못하였으면 while 루프를 돌면서 다음 단어를 예측)\n",
    "    while True: #루프를 돌면서 init_sentence에 단어를 하나씩 생성성\n",
    "        # 1\n",
    "        predict = model(test_tensor) \n",
    "        # 2\n",
    "        predict_word = tf.argmax(tf.nn.softmax(predict, axis=-1), axis=-1)[:, -1] \n",
    "        # 3 \n",
    "        test_tensor = tf.concat([test_tensor, tf.expand_dims(predict_word, axis=0)], axis=-1)\n",
    "        # 4 \n",
    "        if predict_word.numpy()[0] == end_token: break\n",
    "        if test_tensor.shape[1] >= max_len: break\n",
    "\n",
    "    generated = \"\"\n",
    "    # tokenizer를 이용해 word index를 단어로 하나씩 변환합니다 \n",
    "    for word_index in test_tensor[0].numpy():\n",
    "        generated += tokenizer.index_word[word_index] + \" \"\n",
    "\n",
    "    return generated #최종적으로 모델이 생성한 문장을 반환"
   ]
  },
  {
   "cell_type": "code",
   "execution_count": 43,
   "id": "002cb4b7",
   "metadata": {},
   "outputs": [
    {
     "data": {
      "text/plain": [
       "'<start> under the sea under the sea <end> '"
      ]
     },
     "execution_count": 43,
     "metadata": {},
     "output_type": "execute_result"
    }
   ],
   "source": [
    "generate_text(model, tokenizer, init_sentence=\"<start> under the\") # 시작문장으로 he를 넣어 문장생성 함수 실행"
   ]
  },
  {
   "cell_type": "code",
   "execution_count": 44,
   "id": "1767119e",
   "metadata": {},
   "outputs": [
    {
     "data": {
      "text/plain": [
       "'<start> cold heart <end> '"
      ]
     },
     "execution_count": 44,
     "metadata": {},
     "output_type": "execute_result"
    }
   ],
   "source": [
    "generate_text(model, tokenizer, init_sentence=\"<start> cold\")"
   ]
  },
  {
   "cell_type": "code",
   "execution_count": 45,
   "id": "34734795",
   "metadata": {},
   "outputs": [
    {
     "data": {
      "text/plain": [
       "'<start> what i need i i i i <end> '"
      ]
     },
     "execution_count": 45,
     "metadata": {},
     "output_type": "execute_result"
    }
   ],
   "source": [
    "generate_text(model, tokenizer, init_sentence=\"<start> what i\")"
   ]
  },
  {
   "cell_type": "code",
   "execution_count": 46,
   "id": "6b532aca",
   "metadata": {},
   "outputs": [
    {
     "data": {
      "text/plain": [
       "'<start> hot and fresh out the kitchen <end> '"
      ]
     },
     "execution_count": 46,
     "metadata": {},
     "output_type": "execute_result"
    }
   ],
   "source": [
    "generate_text(model, tokenizer, init_sentence=\"<start> hot\")"
   ]
  },
  {
   "cell_type": "code",
   "execution_count": 47,
   "id": "a1ce7c61",
   "metadata": {},
   "outputs": [
    {
     "data": {
      "text/plain": [
       "'<start> but i m not the only one <end> '"
      ]
     },
     "execution_count": 47,
     "metadata": {},
     "output_type": "execute_result"
    }
   ],
   "source": [
    "generate_text(model, tokenizer, init_sentence=\"<start> but i\")"
   ]
  },
  {
   "cell_type": "code",
   "execution_count": 48,
   "id": "21ee14f1",
   "metadata": {},
   "outputs": [
    {
     "data": {
      "text/plain": [
       "'<start> yet i m definitive <end> '"
      ]
     },
     "execution_count": 48,
     "metadata": {},
     "output_type": "execute_result"
    }
   ],
   "source": [
    "generate_text(model, tokenizer, init_sentence=\"<start> yet\")"
   ]
  },
  {
   "cell_type": "code",
   "execution_count": 49,
   "id": "e769ed9c",
   "metadata": {},
   "outputs": [
    {
     "data": {
      "text/plain": [
       "'<start> chorus <end> '"
      ]
     },
     "execution_count": 49,
     "metadata": {},
     "output_type": "execute_result"
    }
   ],
   "source": [
    "generate_text(model, tokenizer, init_sentence=\"<start> chorus\")"
   ]
  },
  {
   "cell_type": "code",
   "execution_count": 50,
   "id": "eed4d1f0",
   "metadata": {},
   "outputs": [
    {
     "data": {
      "text/plain": [
       "'<start> the dog and the wren <end> '"
      ]
     },
     "execution_count": 50,
     "metadata": {},
     "output_type": "execute_result"
    }
   ],
   "source": [
    "generate_text(model, tokenizer, init_sentence=\"<start> the dog\")"
   ]
  },
  {
   "cell_type": "code",
   "execution_count": 51,
   "id": "42bfd1c8",
   "metadata": {},
   "outputs": [
    {
     "data": {
      "text/plain": [
       "'<start> a cat and the miller <end> '"
      ]
     },
     "execution_count": 51,
     "metadata": {},
     "output_type": "execute_result"
    }
   ],
   "source": [
    "generate_text(model, tokenizer, init_sentence=\"<start> a cat\")"
   ]
  },
  {
   "attachments": {},
   "cell_type": "markdown",
   "id": "ac0e7153",
   "metadata": {},
   "source": [
    "under the sea under the sea \n",
    "cold heart\n",
    "what i need \n",
    "hot and fresh out the kitchen\n",
    "but i m not the only one\n",
    "yet i m definitive\n",
    "chorus \n",
    "the dog and the wren\n",
    "a cat and the miller \n"
   ]
  },
  {
   "attachments": {},
   "cell_type": "markdown",
   "id": "fa2b63aa",
   "metadata": {},
   "source": [
    "# 회고"
   ]
  },
  {
   "attachments": {},
   "cell_type": "markdown",
   "id": "c778a546",
   "metadata": {},
   "source": [
    "* 처음 로딩된 텍스트에서 불필요한 요소를 제거하는 부분에서 15자 이상을 넣지 않도록 했더니, 문장의 구성이 단조롭고,    \n",
    "단답형이어서 30자 이상으로 조정했더니 만족할 만한 수준이 되었다. \n",
    "* train_test_split을 통해서 Train Set와 Test Set를 분리하면서 Array 타입이여서 model에 넣기 위해서는 tensor로 변환해 주어야 한다는 것을 알았다. \n",
    "* 처음에 val_loss가 4.3로 너무 높게 나와서 embedding_size을 256->512로 조정하니 val_loss값이 4.3-> 1.9로 떨어졌다.  \n",
    "* 말뭉치를 이용해 이것을 Embedding Layer를 통해 컴퓨터용 사전이 만들어 지고, Tensor 로 변환되는 Model에서 훈련되는 과정을 진행했다. \n",
    "* 해당 프로젝트를 진행하기 전에 CPU 기반으로 epochs 30을 돌렸을 때 1시간이 넘었는데, GPU인식으로 돌리니 대략 30분 정도 걸렸다. \n",
    "\n",
    "\n"
   ]
  },
  {
   "cell_type": "code",
   "execution_count": null,
   "id": "524f1e02",
   "metadata": {},
   "outputs": [],
   "source": []
  }
 ],
 "metadata": {
  "kernelspec": {
   "display_name": "tensor_gpu",
   "language": "python",
   "name": "tensor_gpu"
  },
  "language_info": {
   "codemirror_mode": {
    "name": "ipython",
    "version": 3
   },
   "file_extension": ".py",
   "mimetype": "text/x-python",
   "name": "python",
   "nbconvert_exporter": "python",
   "pygments_lexer": "ipython3",
   "version": "3.9.16"
  }
 },
 "nbformat": 4,
 "nbformat_minor": 5
}
